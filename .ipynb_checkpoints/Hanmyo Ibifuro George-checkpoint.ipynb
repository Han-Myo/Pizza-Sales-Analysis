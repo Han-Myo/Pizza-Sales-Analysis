{
 "cells": [
  {
   "cell_type": "markdown",
   "id": "3ab28ea2-86e6-4bf2-91e1-349f965336dd",
   "metadata": {},
   "source": [
    "# **Pizza Sales Data Analysis**"
   ]
  },
  {
   "cell_type": "code",
   "execution_count": 2,
   "id": "20cd3e35-1fb0-486a-9948-e41ccd705466",
   "metadata": {},
   "outputs": [],
   "source": [
    "# Import necessary libraries\n",
    "\n",
    "import pandas as pd\n",
    "import matplotlib.pyplot as plt"
   ]
  },
  {
   "cell_type": "markdown",
   "id": "f76f2397-3a44-4cdb-bab7-4c7ff1c10925",
   "metadata": {},
   "source": [
    "## ***Data Setup and Cleaning***"
   ]
  },
  {
   "cell_type": "code",
   "execution_count": 4,
   "id": "125c291f-8a14-48fb-8946-1f712ef3e796",
   "metadata": {},
   "outputs": [],
   "source": [
    "# Read first CSV file into DataFrame (order_details_df)\n",
    "order_details_df = pd.read_csv(r\"C:\\Users\\Ibifu\\Documents\\TechCrush Tasks\\Task 3\\Pizza+Place+Sales\\pizza_sales\\order_details.csv\")\n",
    "\n",
    "# Read second CSV file into DataFrame (orders_df)\n",
    "orders_df = pd.read_csv(r\"C:\\Users\\Ibifu\\Documents\\TechCrush Tasks\\Task 3\\Pizza+Place+Sales\\pizza_sales\\orders.csv\")\n",
    "\n",
    "# Read third CSV file into DataFrame (pizza_types_df)\n",
    "# (encode=\"latin1\") interprets the bytes in the file and turns them into text characters.\n",
    "pizza_types_df = pd.read_csv(r\"C:\\Users\\Ibifu\\Documents\\TechCrush Tasks\\Task 3\\Pizza+Place+Sales\\pizza_sales\\pizza_types.csv\", encoding=\"latin1\")\n",
    "\n",
    "# Read fourth CSV file into DataFrame (pizza_df)\n",
    "pizza_df = pd.read_csv(r\"C:\\Users\\Ibifu\\Documents\\TechCrush Tasks\\Task 3\\Pizza+Place+Sales\\pizza_sales\\pizzas.csv\")"
   ]
  },
  {
   "cell_type": "markdown",
   "id": "2840c630-e200-4ea9-9f63-0d2b1105a04e",
   "metadata": {},
   "source": [
    "### *Preview of first DataFrame (order_details_df)*"
   ]
  },
  {
   "cell_type": "code",
   "execution_count": 6,
   "id": "fe136438-5b30-4a72-a5a5-76f952d9f191",
   "metadata": {},
   "outputs": [
    {
     "data": {
      "text/html": [
       "<div>\n",
       "<style scoped>\n",
       "    .dataframe tbody tr th:only-of-type {\n",
       "        vertical-align: middle;\n",
       "    }\n",
       "\n",
       "    .dataframe tbody tr th {\n",
       "        vertical-align: top;\n",
       "    }\n",
       "\n",
       "    .dataframe thead th {\n",
       "        text-align: right;\n",
       "    }\n",
       "</style>\n",
       "<table border=\"1\" class=\"dataframe\">\n",
       "  <thead>\n",
       "    <tr style=\"text-align: right;\">\n",
       "      <th></th>\n",
       "      <th>order_details_id</th>\n",
       "      <th>order_id</th>\n",
       "      <th>pizza_id</th>\n",
       "      <th>quantity</th>\n",
       "    </tr>\n",
       "  </thead>\n",
       "  <tbody>\n",
       "    <tr>\n",
       "      <th>0</th>\n",
       "      <td>1</td>\n",
       "      <td>1</td>\n",
       "      <td>hawaiian_m</td>\n",
       "      <td>1</td>\n",
       "    </tr>\n",
       "    <tr>\n",
       "      <th>1</th>\n",
       "      <td>2</td>\n",
       "      <td>2</td>\n",
       "      <td>classic_dlx_m</td>\n",
       "      <td>1</td>\n",
       "    </tr>\n",
       "    <tr>\n",
       "      <th>2</th>\n",
       "      <td>3</td>\n",
       "      <td>2</td>\n",
       "      <td>five_cheese_l</td>\n",
       "      <td>1</td>\n",
       "    </tr>\n",
       "    <tr>\n",
       "      <th>3</th>\n",
       "      <td>4</td>\n",
       "      <td>2</td>\n",
       "      <td>ital_supr_l</td>\n",
       "      <td>1</td>\n",
       "    </tr>\n",
       "    <tr>\n",
       "      <th>4</th>\n",
       "      <td>5</td>\n",
       "      <td>2</td>\n",
       "      <td>mexicana_m</td>\n",
       "      <td>1</td>\n",
       "    </tr>\n",
       "  </tbody>\n",
       "</table>\n",
       "</div>"
      ],
      "text/plain": [
       "   order_details_id  order_id       pizza_id  quantity\n",
       "0                 1         1     hawaiian_m         1\n",
       "1                 2         2  classic_dlx_m         1\n",
       "2                 3         2  five_cheese_l         1\n",
       "3                 4         2    ital_supr_l         1\n",
       "4                 5         2     mexicana_m         1"
      ]
     },
     "execution_count": 6,
     "metadata": {},
     "output_type": "execute_result"
    }
   ],
   "source": [
    "# Return the first five rows of the DataFrame\n",
    "order_details_df.head()"
   ]
  },
  {
   "cell_type": "code",
   "execution_count": 7,
   "id": "d8168ed8-68ee-4e32-b7d0-4ae6428d5028",
   "metadata": {},
   "outputs": [
    {
     "name": "stdout",
     "output_type": "stream",
     "text": [
      "Orders detail DataFrame contains 48620 rows and 4 columns\n",
      "\n",
      "\n",
      "<class 'pandas.core.frame.DataFrame'>\n",
      "RangeIndex: 48620 entries, 0 to 48619\n",
      "Data columns (total 4 columns):\n",
      " #   Column            Non-Null Count  Dtype \n",
      "---  ------            --------------  ----- \n",
      " 0   order_details_id  48620 non-null  int64 \n",
      " 1   order_id          48620 non-null  int64 \n",
      " 2   pizza_id          48620 non-null  object\n",
      " 3   quantity          48620 non-null  int64 \n",
      "dtypes: int64(3), object(1)\n",
      "memory usage: 1.5+ MB\n"
     ]
    }
   ],
   "source": [
    "# This line of code returns number of rows and columns present in the dataset\n",
    "print(f\"Orders detail DataFrame contains {order_details_df.shape[0]} rows and {order_details_df.shape[1]} columns\")\n",
    "print(\"\\n\")\n",
    "\n",
    "# Review a quick summary of the dataset\n",
    "order_details_df.info()"
   ]
  },
  {
   "cell_type": "code",
   "execution_count": 8,
   "id": "ee7ef528-6420-4ae6-b86d-d69a6d250f9b",
   "metadata": {},
   "outputs": [
    {
     "data": {
      "text/plain": [
       "order_details_id    0\n",
       "order_id            0\n",
       "pizza_id            0\n",
       "quantity            0\n",
       "dtype: int64"
      ]
     },
     "execution_count": 8,
     "metadata": {},
     "output_type": "execute_result"
    }
   ],
   "source": [
    "# Check number of null values\n",
    "\n",
    "order_details_df.isna().sum()"
   ]
  },
  {
   "cell_type": "code",
   "execution_count": 9,
   "id": "86331abb-46c1-4d57-808c-2077ffed1a2d",
   "metadata": {},
   "outputs": [
    {
     "data": {
      "text/plain": [
       "order_details_id    48620\n",
       "order_id            21350\n",
       "pizza_id               91\n",
       "quantity                4\n",
       "dtype: int64"
      ]
     },
     "execution_count": 9,
     "metadata": {},
     "output_type": "execute_result"
    }
   ],
   "source": [
    "# Check count of unique values per column\n",
    "\n",
    "order_details_df.nunique()"
   ]
  },
  {
   "cell_type": "code",
   "execution_count": 10,
   "id": "8f4f7628-eded-4e74-806a-fb0b7566a28c",
   "metadata": {},
   "outputs": [
    {
     "data": {
      "text/html": [
       "<div>\n",
       "<style scoped>\n",
       "    .dataframe tbody tr th:only-of-type {\n",
       "        vertical-align: middle;\n",
       "    }\n",
       "\n",
       "    .dataframe tbody tr th {\n",
       "        vertical-align: top;\n",
       "    }\n",
       "\n",
       "    .dataframe thead th {\n",
       "        text-align: right;\n",
       "    }\n",
       "</style>\n",
       "<table border=\"1\" class=\"dataframe\">\n",
       "  <thead>\n",
       "    <tr style=\"text-align: right;\">\n",
       "      <th></th>\n",
       "      <th>order_details_id</th>\n",
       "      <th>order_id</th>\n",
       "      <th>quantity</th>\n",
       "    </tr>\n",
       "  </thead>\n",
       "  <tbody>\n",
       "    <tr>\n",
       "      <th>count</th>\n",
       "      <td>48620.000000</td>\n",
       "      <td>48620.000000</td>\n",
       "      <td>48620.000000</td>\n",
       "    </tr>\n",
       "    <tr>\n",
       "      <th>mean</th>\n",
       "      <td>24310.500000</td>\n",
       "      <td>10701.479761</td>\n",
       "      <td>1.019622</td>\n",
       "    </tr>\n",
       "    <tr>\n",
       "      <th>std</th>\n",
       "      <td>14035.529381</td>\n",
       "      <td>6180.119770</td>\n",
       "      <td>0.143077</td>\n",
       "    </tr>\n",
       "    <tr>\n",
       "      <th>min</th>\n",
       "      <td>1.000000</td>\n",
       "      <td>1.000000</td>\n",
       "      <td>1.000000</td>\n",
       "    </tr>\n",
       "    <tr>\n",
       "      <th>25%</th>\n",
       "      <td>12155.750000</td>\n",
       "      <td>5337.000000</td>\n",
       "      <td>1.000000</td>\n",
       "    </tr>\n",
       "    <tr>\n",
       "      <th>50%</th>\n",
       "      <td>24310.500000</td>\n",
       "      <td>10682.500000</td>\n",
       "      <td>1.000000</td>\n",
       "    </tr>\n",
       "    <tr>\n",
       "      <th>75%</th>\n",
       "      <td>36465.250000</td>\n",
       "      <td>16100.000000</td>\n",
       "      <td>1.000000</td>\n",
       "    </tr>\n",
       "    <tr>\n",
       "      <th>max</th>\n",
       "      <td>48620.000000</td>\n",
       "      <td>21350.000000</td>\n",
       "      <td>4.000000</td>\n",
       "    </tr>\n",
       "  </tbody>\n",
       "</table>\n",
       "</div>"
      ],
      "text/plain": [
       "       order_details_id      order_id      quantity\n",
       "count      48620.000000  48620.000000  48620.000000\n",
       "mean       24310.500000  10701.479761      1.019622\n",
       "std        14035.529381   6180.119770      0.143077\n",
       "min            1.000000      1.000000      1.000000\n",
       "25%        12155.750000   5337.000000      1.000000\n",
       "50%        24310.500000  10682.500000      1.000000\n",
       "75%        36465.250000  16100.000000      1.000000\n",
       "max        48620.000000  21350.000000      4.000000"
      ]
     },
     "execution_count": 10,
     "metadata": {},
     "output_type": "execute_result"
    }
   ],
   "source": [
    "# Check numeric stats\n",
    "\n",
    "order_details_df.describe()"
   ]
  },
  {
   "cell_type": "markdown",
   "id": "dee63699-7dfc-4810-8cf4-88ef28e6ea1b",
   "metadata": {},
   "source": [
    "##### The first DataFrame appears to be free of null values, and all columns have the correct data type.\n"
   ]
  },
  {
   "cell_type": "markdown",
   "id": "f7a074af-92de-42e1-8ab1-f1a61214b844",
   "metadata": {},
   "source": [
    "### *Preview of second DataFrame (orders_df)*"
   ]
  },
  {
   "cell_type": "code",
   "execution_count": 13,
   "id": "2e2139c4-73a3-4b6f-8776-355b1b62a830",
   "metadata": {},
   "outputs": [
    {
     "data": {
      "text/html": [
       "<div>\n",
       "<style scoped>\n",
       "    .dataframe tbody tr th:only-of-type {\n",
       "        vertical-align: middle;\n",
       "    }\n",
       "\n",
       "    .dataframe tbody tr th {\n",
       "        vertical-align: top;\n",
       "    }\n",
       "\n",
       "    .dataframe thead th {\n",
       "        text-align: right;\n",
       "    }\n",
       "</style>\n",
       "<table border=\"1\" class=\"dataframe\">\n",
       "  <thead>\n",
       "    <tr style=\"text-align: right;\">\n",
       "      <th></th>\n",
       "      <th>order_id</th>\n",
       "      <th>date</th>\n",
       "      <th>time</th>\n",
       "    </tr>\n",
       "  </thead>\n",
       "  <tbody>\n",
       "    <tr>\n",
       "      <th>0</th>\n",
       "      <td>1</td>\n",
       "      <td>2015-01-01</td>\n",
       "      <td>11:38:36</td>\n",
       "    </tr>\n",
       "    <tr>\n",
       "      <th>1</th>\n",
       "      <td>2</td>\n",
       "      <td>2015-01-01</td>\n",
       "      <td>11:57:40</td>\n",
       "    </tr>\n",
       "    <tr>\n",
       "      <th>2</th>\n",
       "      <td>3</td>\n",
       "      <td>2015-01-01</td>\n",
       "      <td>12:12:28</td>\n",
       "    </tr>\n",
       "    <tr>\n",
       "      <th>3</th>\n",
       "      <td>4</td>\n",
       "      <td>2015-01-01</td>\n",
       "      <td>12:16:31</td>\n",
       "    </tr>\n",
       "    <tr>\n",
       "      <th>4</th>\n",
       "      <td>5</td>\n",
       "      <td>2015-01-01</td>\n",
       "      <td>12:21:30</td>\n",
       "    </tr>\n",
       "  </tbody>\n",
       "</table>\n",
       "</div>"
      ],
      "text/plain": [
       "   order_id        date      time\n",
       "0         1  2015-01-01  11:38:36\n",
       "1         2  2015-01-01  11:57:40\n",
       "2         3  2015-01-01  12:12:28\n",
       "3         4  2015-01-01  12:16:31\n",
       "4         5  2015-01-01  12:21:30"
      ]
     },
     "execution_count": 13,
     "metadata": {},
     "output_type": "execute_result"
    }
   ],
   "source": [
    "# Return the first five rows of the DataFrame\n",
    "\n",
    "orders_df.head()"
   ]
  },
  {
   "cell_type": "code",
   "execution_count": 14,
   "id": "1d46365c-dac1-4a7e-b4b7-43050baa8dcb",
   "metadata": {},
   "outputs": [
    {
     "name": "stdout",
     "output_type": "stream",
     "text": [
      "Orders DataFrame contains 21350 rows and 3 columns\n",
      "\n",
      "\n",
      "<class 'pandas.core.frame.DataFrame'>\n",
      "RangeIndex: 21350 entries, 0 to 21349\n",
      "Data columns (total 3 columns):\n",
      " #   Column    Non-Null Count  Dtype \n",
      "---  ------    --------------  ----- \n",
      " 0   order_id  21350 non-null  int64 \n",
      " 1   date      21350 non-null  object\n",
      " 2   time      21350 non-null  object\n",
      "dtypes: int64(1), object(2)\n",
      "memory usage: 500.5+ KB\n"
     ]
    }
   ],
   "source": [
    "# This line of code returns number of rows and columns present in the dataset\n",
    "print(f\"Orders DataFrame contains {orders_df.shape[0]} rows and {orders_df.shape[1]} columns\")\n",
    "print(\"\\n\")\n",
    "\n",
    "# Review a quick summary of the dataset\n",
    "orders_df.info()"
   ]
  },
  {
   "cell_type": "code",
   "execution_count": 15,
   "id": "b95f2e18-049c-4cb8-9175-48a9d394914b",
   "metadata": {},
   "outputs": [
    {
     "data": {
      "text/plain": [
       "order_id    0\n",
       "date        0\n",
       "time        0\n",
       "dtype: int64"
      ]
     },
     "execution_count": 15,
     "metadata": {},
     "output_type": "execute_result"
    }
   ],
   "source": [
    "# Check number of null values\n",
    "\n",
    "orders_df.isna().sum()"
   ]
  },
  {
   "cell_type": "code",
   "execution_count": 16,
   "id": "9a936f30-bee7-4024-9277-31ef9ebb9805",
   "metadata": {},
   "outputs": [
    {
     "data": {
      "text/plain": [
       "order_id    21350\n",
       "date          358\n",
       "time        16382\n",
       "dtype: int64"
      ]
     },
     "execution_count": 16,
     "metadata": {},
     "output_type": "execute_result"
    }
   ],
   "source": [
    "# Check count of unique values per column\n",
    "\n",
    "orders_df.nunique()"
   ]
  },
  {
   "cell_type": "code",
   "execution_count": 17,
   "id": "1ba8069a-2f53-4c26-9eba-e2ef2894b513",
   "metadata": {},
   "outputs": [
    {
     "data": {
      "text/html": [
       "<div>\n",
       "<style scoped>\n",
       "    .dataframe tbody tr th:only-of-type {\n",
       "        vertical-align: middle;\n",
       "    }\n",
       "\n",
       "    .dataframe tbody tr th {\n",
       "        vertical-align: top;\n",
       "    }\n",
       "\n",
       "    .dataframe thead th {\n",
       "        text-align: right;\n",
       "    }\n",
       "</style>\n",
       "<table border=\"1\" class=\"dataframe\">\n",
       "  <thead>\n",
       "    <tr style=\"text-align: right;\">\n",
       "      <th></th>\n",
       "      <th>order_id</th>\n",
       "    </tr>\n",
       "  </thead>\n",
       "  <tbody>\n",
       "    <tr>\n",
       "      <th>count</th>\n",
       "      <td>21350.000000</td>\n",
       "    </tr>\n",
       "    <tr>\n",
       "      <th>mean</th>\n",
       "      <td>10675.500000</td>\n",
       "    </tr>\n",
       "    <tr>\n",
       "      <th>std</th>\n",
       "      <td>6163.358459</td>\n",
       "    </tr>\n",
       "    <tr>\n",
       "      <th>min</th>\n",
       "      <td>1.000000</td>\n",
       "    </tr>\n",
       "    <tr>\n",
       "      <th>25%</th>\n",
       "      <td>5338.250000</td>\n",
       "    </tr>\n",
       "    <tr>\n",
       "      <th>50%</th>\n",
       "      <td>10675.500000</td>\n",
       "    </tr>\n",
       "    <tr>\n",
       "      <th>75%</th>\n",
       "      <td>16012.750000</td>\n",
       "    </tr>\n",
       "    <tr>\n",
       "      <th>max</th>\n",
       "      <td>21350.000000</td>\n",
       "    </tr>\n",
       "  </tbody>\n",
       "</table>\n",
       "</div>"
      ],
      "text/plain": [
       "           order_id\n",
       "count  21350.000000\n",
       "mean   10675.500000\n",
       "std     6163.358459\n",
       "min        1.000000\n",
       "25%     5338.250000\n",
       "50%    10675.500000\n",
       "75%    16012.750000\n",
       "max    21350.000000"
      ]
     },
     "execution_count": 17,
     "metadata": {},
     "output_type": "execute_result"
    }
   ],
   "source": [
    "# Check numeric stats\n",
    "\n",
    "orders_df.describe()"
   ]
  },
  {
   "cell_type": "code",
   "execution_count": 18,
   "id": "685ce57c-b2d5-436b-b017-c1212559d5b4",
   "metadata": {},
   "outputs": [
    {
     "name": "stdout",
     "output_type": "stream",
     "text": [
      "<class 'pandas.core.frame.DataFrame'>\n",
      "RangeIndex: 21350 entries, 0 to 21349\n",
      "Data columns (total 3 columns):\n",
      " #   Column    Non-Null Count  Dtype         \n",
      "---  ------    --------------  -----         \n",
      " 0   order_id  21350 non-null  int64         \n",
      " 1   date      21350 non-null  datetime64[ns]\n",
      " 2   time      21350 non-null  object        \n",
      "dtypes: datetime64[ns](1), int64(1), object(1)\n",
      "memory usage: 500.5+ KB\n"
     ]
    }
   ],
   "source": [
    "# Convert \"date\" column to datetime type.\n",
    "\n",
    "orders_df[\"date\"] = pd.to_datetime(orders_df[\"date\"])\n",
    "\n",
    "# Confirm data type after conversion, it should be in datetime64 format\n",
    "orders_df.info()"
   ]
  },
  {
   "cell_type": "code",
   "execution_count": 19,
   "id": "1f2275b1-674a-4e8f-ac20-21beef4cb88d",
   "metadata": {},
   "outputs": [
    {
     "name": "stdout",
     "output_type": "stream",
     "text": [
      "<class 'pandas.core.frame.DataFrame'>\n",
      "RangeIndex: 21350 entries, 0 to 21349\n",
      "Data columns (total 3 columns):\n",
      " #   Column    Non-Null Count  Dtype         \n",
      "---  ------    --------------  -----         \n",
      " 0   order_id  21350 non-null  int64         \n",
      " 1   date      21350 non-null  datetime64[ns]\n",
      " 2   time      21350 non-null  object        \n",
      "dtypes: datetime64[ns](1), int64(1), object(1)\n",
      "memory usage: 500.5+ KB\n"
     ]
    }
   ],
   "source": [
    "# Convert \"time\" column to datetime\n",
    "\n",
    "orders_df[\"time\"] = pd.to_datetime(orders_df[\"time\"], format=\"%H:%M:%S\").dt.time\n",
    "\n",
    "# Confirm data type after convertion\n",
    "orders_df.info()"
   ]
  },
  {
   "cell_type": "markdown",
   "id": "f14da800-48e3-4f97-9112-b2185602308f",
   "metadata": {},
   "source": [
    "##### Pandas time-only columns stays as Python datetime.time object but each row is a datetime.time instance"
   ]
  },
  {
   "cell_type": "code",
   "execution_count": 21,
   "id": "d30ea048-8216-4ca5-b7af-2591c43742c9",
   "metadata": {},
   "outputs": [
    {
     "name": "stdout",
     "output_type": "stream",
     "text": [
      "Each row in 'time' column is in '<class 'datetime.time'>' format\n"
     ]
    }
   ],
   "source": [
    "# Confirm that the first row in the \"time\" column is actually an instance of \"datetime.time\"\n",
    "\n",
    "print(f\"Each row in 'time' column is in '{type(orders_df[\"time\"].iloc[0])}' format\")"
   ]
  },
  {
   "cell_type": "markdown",
   "id": "17d5936a-1c8c-4f81-9b61-c22ea8488977",
   "metadata": {},
   "source": [
    "##### The second DataFrame appears to be free of null values, and the ‘date’ and ‘time’ columns were converted to the correct data type.\n"
   ]
  },
  {
   "cell_type": "markdown",
   "id": "9b5456d1-2ad6-4aa0-bb30-3f7b0dfa7f31",
   "metadata": {},
   "source": [
    "### *Preview of third DataFrame (pizza_types_df)*"
   ]
  },
  {
   "cell_type": "code",
   "execution_count": 24,
   "id": "762acf16-5e7e-4dd7-8f51-d4b122cb8372",
   "metadata": {},
   "outputs": [
    {
     "data": {
      "text/html": [
       "<div>\n",
       "<style scoped>\n",
       "    .dataframe tbody tr th:only-of-type {\n",
       "        vertical-align: middle;\n",
       "    }\n",
       "\n",
       "    .dataframe tbody tr th {\n",
       "        vertical-align: top;\n",
       "    }\n",
       "\n",
       "    .dataframe thead th {\n",
       "        text-align: right;\n",
       "    }\n",
       "</style>\n",
       "<table border=\"1\" class=\"dataframe\">\n",
       "  <thead>\n",
       "    <tr style=\"text-align: right;\">\n",
       "      <th></th>\n",
       "      <th>pizza_type_id</th>\n",
       "      <th>name</th>\n",
       "      <th>category</th>\n",
       "      <th>ingredients</th>\n",
       "    </tr>\n",
       "  </thead>\n",
       "  <tbody>\n",
       "    <tr>\n",
       "      <th>0</th>\n",
       "      <td>bbq_ckn</td>\n",
       "      <td>The Barbecue Chicken Pizza</td>\n",
       "      <td>Chicken</td>\n",
       "      <td>Barbecued Chicken, Red Peppers, Green Peppers,...</td>\n",
       "    </tr>\n",
       "    <tr>\n",
       "      <th>1</th>\n",
       "      <td>cali_ckn</td>\n",
       "      <td>The California Chicken Pizza</td>\n",
       "      <td>Chicken</td>\n",
       "      <td>Chicken, Artichoke, Spinach, Garlic, Jalapeno ...</td>\n",
       "    </tr>\n",
       "    <tr>\n",
       "      <th>2</th>\n",
       "      <td>ckn_alfredo</td>\n",
       "      <td>The Chicken Alfredo Pizza</td>\n",
       "      <td>Chicken</td>\n",
       "      <td>Chicken, Red Onions, Red Peppers, Mushrooms, A...</td>\n",
       "    </tr>\n",
       "    <tr>\n",
       "      <th>3</th>\n",
       "      <td>ckn_pesto</td>\n",
       "      <td>The Chicken Pesto Pizza</td>\n",
       "      <td>Chicken</td>\n",
       "      <td>Chicken, Tomatoes, Red Peppers, Spinach, Garli...</td>\n",
       "    </tr>\n",
       "    <tr>\n",
       "      <th>4</th>\n",
       "      <td>southw_ckn</td>\n",
       "      <td>The Southwest Chicken Pizza</td>\n",
       "      <td>Chicken</td>\n",
       "      <td>Chicken, Tomatoes, Red Peppers, Red Onions, Ja...</td>\n",
       "    </tr>\n",
       "  </tbody>\n",
       "</table>\n",
       "</div>"
      ],
      "text/plain": [
       "  pizza_type_id                          name category  \\\n",
       "0       bbq_ckn    The Barbecue Chicken Pizza  Chicken   \n",
       "1      cali_ckn  The California Chicken Pizza  Chicken   \n",
       "2   ckn_alfredo     The Chicken Alfredo Pizza  Chicken   \n",
       "3     ckn_pesto       The Chicken Pesto Pizza  Chicken   \n",
       "4    southw_ckn   The Southwest Chicken Pizza  Chicken   \n",
       "\n",
       "                                         ingredients  \n",
       "0  Barbecued Chicken, Red Peppers, Green Peppers,...  \n",
       "1  Chicken, Artichoke, Spinach, Garlic, Jalapeno ...  \n",
       "2  Chicken, Red Onions, Red Peppers, Mushrooms, A...  \n",
       "3  Chicken, Tomatoes, Red Peppers, Spinach, Garli...  \n",
       "4  Chicken, Tomatoes, Red Peppers, Red Onions, Ja...  "
      ]
     },
     "execution_count": 24,
     "metadata": {},
     "output_type": "execute_result"
    }
   ],
   "source": [
    "# Return the first five rows of the DataFrame\n",
    "\n",
    "pizza_types_df.head()"
   ]
  },
  {
   "cell_type": "code",
   "execution_count": 25,
   "id": "554e492b-8ebd-4948-9e6f-498b36636dc9",
   "metadata": {},
   "outputs": [
    {
     "name": "stdout",
     "output_type": "stream",
     "text": [
      "Pizza types DataFrame contains 32 rows and 4 columns\n",
      "\n",
      "\n",
      "<class 'pandas.core.frame.DataFrame'>\n",
      "RangeIndex: 32 entries, 0 to 31\n",
      "Data columns (total 4 columns):\n",
      " #   Column         Non-Null Count  Dtype \n",
      "---  ------         --------------  ----- \n",
      " 0   pizza_type_id  32 non-null     object\n",
      " 1   name           32 non-null     object\n",
      " 2   category       32 non-null     object\n",
      " 3   ingredients    32 non-null     object\n",
      "dtypes: object(4)\n",
      "memory usage: 1.1+ KB\n"
     ]
    }
   ],
   "source": [
    "# This line of code returns number of rows and columns present in the dataset\n",
    "print(f\"Pizza types DataFrame contains {pizza_types_df.shape[0]} rows and {pizza_types_df.shape[1]} columns\")\n",
    "print(\"\\n\") # This code instructs the program to move to a new line.\n",
    "\n",
    "# Review a quick summary of the dataset\n",
    "pizza_types_df.info()"
   ]
  },
  {
   "cell_type": "code",
   "execution_count": 26,
   "id": "3ec3790a-427d-4717-ae86-4a86b29cdf7a",
   "metadata": {},
   "outputs": [
    {
     "data": {
      "text/plain": [
       "pizza_type_id    0\n",
       "name             0\n",
       "category         0\n",
       "ingredients      0\n",
       "dtype: int64"
      ]
     },
     "execution_count": 26,
     "metadata": {},
     "output_type": "execute_result"
    }
   ],
   "source": [
    "# Check number of null values\n",
    "\n",
    "pizza_types_df.isna().sum()"
   ]
  },
  {
   "cell_type": "code",
   "execution_count": 27,
   "id": "3c5b895c-fd94-4d68-970c-80d806d683cf",
   "metadata": {},
   "outputs": [
    {
     "data": {
      "text/plain": [
       "pizza_type_id    32\n",
       "name             32\n",
       "category          4\n",
       "ingredients      32\n",
       "dtype: int64"
      ]
     },
     "execution_count": 27,
     "metadata": {},
     "output_type": "execute_result"
    }
   ],
   "source": [
    "# Check count of unique values per column\n",
    "\n",
    "pizza_types_df.nunique()"
   ]
  },
  {
   "cell_type": "markdown",
   "id": "f9ba6bfb-755d-4933-b2b4-6735bd47a53e",
   "metadata": {},
   "source": [
    "##### The third DataFrame appears to be free of null values, and all columns have the correct data type."
   ]
  },
  {
   "cell_type": "markdown",
   "id": "cddd5268-0c0a-47a1-8dd8-bd7e8f1c58ba",
   "metadata": {},
   "source": [
    "### *Preview of fourth DataFrame (pizza_df)*"
   ]
  },
  {
   "cell_type": "code",
   "execution_count": 30,
   "id": "7bf09aa7-8f41-4548-bc1d-df6edd46b2aa",
   "metadata": {},
   "outputs": [
    {
     "data": {
      "text/html": [
       "<div>\n",
       "<style scoped>\n",
       "    .dataframe tbody tr th:only-of-type {\n",
       "        vertical-align: middle;\n",
       "    }\n",
       "\n",
       "    .dataframe tbody tr th {\n",
       "        vertical-align: top;\n",
       "    }\n",
       "\n",
       "    .dataframe thead th {\n",
       "        text-align: right;\n",
       "    }\n",
       "</style>\n",
       "<table border=\"1\" class=\"dataframe\">\n",
       "  <thead>\n",
       "    <tr style=\"text-align: right;\">\n",
       "      <th></th>\n",
       "      <th>pizza_id</th>\n",
       "      <th>pizza_type_id</th>\n",
       "      <th>size</th>\n",
       "      <th>price</th>\n",
       "    </tr>\n",
       "  </thead>\n",
       "  <tbody>\n",
       "    <tr>\n",
       "      <th>0</th>\n",
       "      <td>bbq_ckn_s</td>\n",
       "      <td>bbq_ckn</td>\n",
       "      <td>S</td>\n",
       "      <td>12.75</td>\n",
       "    </tr>\n",
       "    <tr>\n",
       "      <th>1</th>\n",
       "      <td>bbq_ckn_m</td>\n",
       "      <td>bbq_ckn</td>\n",
       "      <td>M</td>\n",
       "      <td>16.75</td>\n",
       "    </tr>\n",
       "    <tr>\n",
       "      <th>2</th>\n",
       "      <td>bbq_ckn_l</td>\n",
       "      <td>bbq_ckn</td>\n",
       "      <td>L</td>\n",
       "      <td>20.75</td>\n",
       "    </tr>\n",
       "    <tr>\n",
       "      <th>3</th>\n",
       "      <td>cali_ckn_s</td>\n",
       "      <td>cali_ckn</td>\n",
       "      <td>S</td>\n",
       "      <td>12.75</td>\n",
       "    </tr>\n",
       "    <tr>\n",
       "      <th>4</th>\n",
       "      <td>cali_ckn_m</td>\n",
       "      <td>cali_ckn</td>\n",
       "      <td>M</td>\n",
       "      <td>16.75</td>\n",
       "    </tr>\n",
       "  </tbody>\n",
       "</table>\n",
       "</div>"
      ],
      "text/plain": [
       "     pizza_id pizza_type_id size  price\n",
       "0   bbq_ckn_s       bbq_ckn    S  12.75\n",
       "1   bbq_ckn_m       bbq_ckn    M  16.75\n",
       "2   bbq_ckn_l       bbq_ckn    L  20.75\n",
       "3  cali_ckn_s      cali_ckn    S  12.75\n",
       "4  cali_ckn_m      cali_ckn    M  16.75"
      ]
     },
     "execution_count": 30,
     "metadata": {},
     "output_type": "execute_result"
    }
   ],
   "source": [
    "# Return the first five rows of the DataFrame\n",
    "\n",
    "pizza_df.head()"
   ]
  },
  {
   "cell_type": "code",
   "execution_count": 31,
   "id": "a2e4fd0c-8269-430d-a50b-b454e270d8e7",
   "metadata": {},
   "outputs": [
    {
     "name": "stdout",
     "output_type": "stream",
     "text": [
      "Pizza DataFrame contains 96 rows and 4 columns\n",
      "\n",
      "\n",
      "<class 'pandas.core.frame.DataFrame'>\n",
      "RangeIndex: 96 entries, 0 to 95\n",
      "Data columns (total 4 columns):\n",
      " #   Column         Non-Null Count  Dtype  \n",
      "---  ------         --------------  -----  \n",
      " 0   pizza_id       96 non-null     object \n",
      " 1   pizza_type_id  96 non-null     object \n",
      " 2   size           96 non-null     object \n",
      " 3   price          96 non-null     float64\n",
      "dtypes: float64(1), object(3)\n",
      "memory usage: 3.1+ KB\n"
     ]
    }
   ],
   "source": [
    "# This line of code returns number of rows and columns present in the dataset\n",
    "print(f\"Pizza DataFrame contains {pizza_df.shape[0]} rows and {pizza_df.shape[1]} columns\")\n",
    "print(\"\\n\") # This code instructs the program to move to a new line.\n",
    "\n",
    "# Review a quick summary of the dataset\n",
    "pizza_df.info()"
   ]
  },
  {
   "cell_type": "code",
   "execution_count": 32,
   "id": "1473a3c7-ebcb-46c8-9200-14193504a15b",
   "metadata": {},
   "outputs": [
    {
     "data": {
      "text/plain": [
       "pizza_id         0\n",
       "pizza_type_id    0\n",
       "size             0\n",
       "price            0\n",
       "dtype: int64"
      ]
     },
     "execution_count": 32,
     "metadata": {},
     "output_type": "execute_result"
    }
   ],
   "source": [
    "# Check number of null values\n",
    "\n",
    "pizza_df.isna().sum()"
   ]
  },
  {
   "cell_type": "code",
   "execution_count": 33,
   "id": "2ca8ad34-d648-4a77-bc15-e2058013520d",
   "metadata": {},
   "outputs": [
    {
     "data": {
      "text/plain": [
       "pizza_id         96\n",
       "pizza_type_id    32\n",
       "size              5\n",
       "price            27\n",
       "dtype: int64"
      ]
     },
     "execution_count": 33,
     "metadata": {},
     "output_type": "execute_result"
    }
   ],
   "source": [
    "# Check count of unique values per column\n",
    "\n",
    "pizza_df.nunique()"
   ]
  },
  {
   "cell_type": "code",
   "execution_count": 34,
   "id": "cc2b71a0-22fd-4ea4-8118-e78601e84953",
   "metadata": {},
   "outputs": [
    {
     "data": {
      "text/html": [
       "<div>\n",
       "<style scoped>\n",
       "    .dataframe tbody tr th:only-of-type {\n",
       "        vertical-align: middle;\n",
       "    }\n",
       "\n",
       "    .dataframe tbody tr th {\n",
       "        vertical-align: top;\n",
       "    }\n",
       "\n",
       "    .dataframe thead th {\n",
       "        text-align: right;\n",
       "    }\n",
       "</style>\n",
       "<table border=\"1\" class=\"dataframe\">\n",
       "  <thead>\n",
       "    <tr style=\"text-align: right;\">\n",
       "      <th></th>\n",
       "      <th>price</th>\n",
       "    </tr>\n",
       "  </thead>\n",
       "  <tbody>\n",
       "    <tr>\n",
       "      <th>count</th>\n",
       "      <td>96.000000</td>\n",
       "    </tr>\n",
       "    <tr>\n",
       "      <th>mean</th>\n",
       "      <td>16.440625</td>\n",
       "    </tr>\n",
       "    <tr>\n",
       "      <th>std</th>\n",
       "      <td>4.090266</td>\n",
       "    </tr>\n",
       "    <tr>\n",
       "      <th>min</th>\n",
       "      <td>9.750000</td>\n",
       "    </tr>\n",
       "    <tr>\n",
       "      <th>25%</th>\n",
       "      <td>12.500000</td>\n",
       "    </tr>\n",
       "    <tr>\n",
       "      <th>50%</th>\n",
       "      <td>16.250000</td>\n",
       "    </tr>\n",
       "    <tr>\n",
       "      <th>75%</th>\n",
       "      <td>20.250000</td>\n",
       "    </tr>\n",
       "    <tr>\n",
       "      <th>max</th>\n",
       "      <td>35.950000</td>\n",
       "    </tr>\n",
       "  </tbody>\n",
       "</table>\n",
       "</div>"
      ],
      "text/plain": [
       "           price\n",
       "count  96.000000\n",
       "mean   16.440625\n",
       "std     4.090266\n",
       "min     9.750000\n",
       "25%    12.500000\n",
       "50%    16.250000\n",
       "75%    20.250000\n",
       "max    35.950000"
      ]
     },
     "execution_count": 34,
     "metadata": {},
     "output_type": "execute_result"
    }
   ],
   "source": [
    "# Check numeric stats\n",
    "\n",
    "pizza_df.describe()"
   ]
  },
  {
   "cell_type": "markdown",
   "id": "a43a7f27-7b3e-45a9-8554-239c67a06b26",
   "metadata": {},
   "source": [
    "##### The fourth DataFrame appears to be free of null values, and all columns have the correct data type."
   ]
  },
  {
   "cell_type": "markdown",
   "id": "d22b3787-f49d-4aa3-9f02-67a54707e9ce",
   "metadata": {},
   "source": [
    "## ***Building Master DataFrame***"
   ]
  },
  {
   "cell_type": "markdown",
   "id": "4a3bdfbc-6cd6-49f8-b8df-feb1e005a41b",
   "metadata": {},
   "source": [
    "##### Joining DataFrames: Order Details - Pizzas - Pizza Types - Orders\n",
    "\n",
    "**The Relationships**\n",
    "\n",
    "* ***Orders - Order Details:*** Every order detail must have a matching order and every order with pizzas must have details.\n",
    "\n",
    "* ***Order Details - Pizzas:*** Each item must refer to a valid pizza on the menu.\n",
    "\n",
    "* ***Pizzas - Pizza Types:*** Each pizza must belong to a valid pizza type.\n",
    "\n",
    "**Why Inner Joins Fits**\n",
    "\n",
    "***Analysis Goal***: Analyse actual sales of pizza. If an order detail doesn’t have a matching pizza, it isn’t a valid sale.\n",
    "\n",
    "An inner join automatically drops any orphan rows (e.g., an order_id in Order Details that isn’t in Orders)\n",
    "\n",
    "**Recommended Sequence**\n",
    "\n",
    "* Order Details INNER JOIN Pizzas on pizza_id\n",
    "\n",
    "* Result INNER JOIN Pizza Types on pizza_type_id\n",
    "\n",
    "* Result INNER JOIN Orders on order_id\n",
    "\n",
    "That produces a sales-only master table where every row represents a valid sold pizza with full context."
   ]
  },
  {
   "cell_type": "code",
   "execution_count": 38,
   "id": "79532cac-91e3-448d-88b3-3dc8142a23bc",
   "metadata": {},
   "outputs": [
    {
     "data": {
      "text/html": [
       "<div>\n",
       "<style scoped>\n",
       "    .dataframe tbody tr th:only-of-type {\n",
       "        vertical-align: middle;\n",
       "    }\n",
       "\n",
       "    .dataframe tbody tr th {\n",
       "        vertical-align: top;\n",
       "    }\n",
       "\n",
       "    .dataframe thead th {\n",
       "        text-align: right;\n",
       "    }\n",
       "</style>\n",
       "<table border=\"1\" class=\"dataframe\">\n",
       "  <thead>\n",
       "    <tr style=\"text-align: right;\">\n",
       "      <th></th>\n",
       "      <th>order_details_id</th>\n",
       "      <th>order_id</th>\n",
       "      <th>pizza_id</th>\n",
       "      <th>quantity</th>\n",
       "      <th>pizza_type_id</th>\n",
       "      <th>size</th>\n",
       "      <th>price</th>\n",
       "    </tr>\n",
       "  </thead>\n",
       "  <tbody>\n",
       "    <tr>\n",
       "      <th>0</th>\n",
       "      <td>1</td>\n",
       "      <td>1</td>\n",
       "      <td>hawaiian_m</td>\n",
       "      <td>1</td>\n",
       "      <td>hawaiian</td>\n",
       "      <td>M</td>\n",
       "      <td>13.25</td>\n",
       "    </tr>\n",
       "    <tr>\n",
       "      <th>1</th>\n",
       "      <td>2</td>\n",
       "      <td>2</td>\n",
       "      <td>classic_dlx_m</td>\n",
       "      <td>1</td>\n",
       "      <td>classic_dlx</td>\n",
       "      <td>M</td>\n",
       "      <td>16.00</td>\n",
       "    </tr>\n",
       "    <tr>\n",
       "      <th>2</th>\n",
       "      <td>3</td>\n",
       "      <td>2</td>\n",
       "      <td>five_cheese_l</td>\n",
       "      <td>1</td>\n",
       "      <td>five_cheese</td>\n",
       "      <td>L</td>\n",
       "      <td>18.50</td>\n",
       "    </tr>\n",
       "    <tr>\n",
       "      <th>3</th>\n",
       "      <td>4</td>\n",
       "      <td>2</td>\n",
       "      <td>ital_supr_l</td>\n",
       "      <td>1</td>\n",
       "      <td>ital_supr</td>\n",
       "      <td>L</td>\n",
       "      <td>20.75</td>\n",
       "    </tr>\n",
       "    <tr>\n",
       "      <th>4</th>\n",
       "      <td>5</td>\n",
       "      <td>2</td>\n",
       "      <td>mexicana_m</td>\n",
       "      <td>1</td>\n",
       "      <td>mexicana</td>\n",
       "      <td>M</td>\n",
       "      <td>16.00</td>\n",
       "    </tr>\n",
       "  </tbody>\n",
       "</table>\n",
       "</div>"
      ],
      "text/plain": [
       "   order_details_id  order_id       pizza_id  quantity pizza_type_id size  \\\n",
       "0                 1         1     hawaiian_m         1      hawaiian    M   \n",
       "1                 2         2  classic_dlx_m         1   classic_dlx    M   \n",
       "2                 3         2  five_cheese_l         1   five_cheese    L   \n",
       "3                 4         2    ital_supr_l         1     ital_supr    L   \n",
       "4                 5         2     mexicana_m         1      mexicana    M   \n",
       "\n",
       "   price  \n",
       "0  13.25  \n",
       "1  16.00  \n",
       "2  18.50  \n",
       "3  20.75  \n",
       "4  16.00  "
      ]
     },
     "execution_count": 38,
     "metadata": {},
     "output_type": "execute_result"
    }
   ],
   "source": [
    "# Join DataFrames \"order_details_df\" and \"pizza_df\" based on a common column(key) \"pizza_id\" and store in \"first_join\"\n",
    "\n",
    "first_join = pd.merge(order_details_df, pizza_df, how=\"inner\", on=\"pizza_id\")\n",
    "\n",
    "# Return first five rows \n",
    "first_join.head()"
   ]
  },
  {
   "cell_type": "code",
   "execution_count": 39,
   "id": "afa31975-640d-425f-8538-df361a28975d",
   "metadata": {},
   "outputs": [
    {
     "data": {
      "text/html": [
       "<div>\n",
       "<style scoped>\n",
       "    .dataframe tbody tr th:only-of-type {\n",
       "        vertical-align: middle;\n",
       "    }\n",
       "\n",
       "    .dataframe tbody tr th {\n",
       "        vertical-align: top;\n",
       "    }\n",
       "\n",
       "    .dataframe thead th {\n",
       "        text-align: right;\n",
       "    }\n",
       "</style>\n",
       "<table border=\"1\" class=\"dataframe\">\n",
       "  <thead>\n",
       "    <tr style=\"text-align: right;\">\n",
       "      <th></th>\n",
       "      <th>order_details_id</th>\n",
       "      <th>order_id</th>\n",
       "      <th>pizza_id</th>\n",
       "      <th>quantity</th>\n",
       "      <th>pizza_type_id</th>\n",
       "      <th>size</th>\n",
       "      <th>price</th>\n",
       "      <th>name</th>\n",
       "      <th>category</th>\n",
       "      <th>ingredients</th>\n",
       "    </tr>\n",
       "  </thead>\n",
       "  <tbody>\n",
       "    <tr>\n",
       "      <th>0</th>\n",
       "      <td>1</td>\n",
       "      <td>1</td>\n",
       "      <td>hawaiian_m</td>\n",
       "      <td>1</td>\n",
       "      <td>hawaiian</td>\n",
       "      <td>M</td>\n",
       "      <td>13.25</td>\n",
       "      <td>The Hawaiian Pizza</td>\n",
       "      <td>Classic</td>\n",
       "      <td>Sliced Ham, Pineapple, Mozzarella Cheese</td>\n",
       "    </tr>\n",
       "    <tr>\n",
       "      <th>1</th>\n",
       "      <td>2</td>\n",
       "      <td>2</td>\n",
       "      <td>classic_dlx_m</td>\n",
       "      <td>1</td>\n",
       "      <td>classic_dlx</td>\n",
       "      <td>M</td>\n",
       "      <td>16.00</td>\n",
       "      <td>The Classic Deluxe Pizza</td>\n",
       "      <td>Classic</td>\n",
       "      <td>Pepperoni, Mushrooms, Red Onions, Red Peppers,...</td>\n",
       "    </tr>\n",
       "    <tr>\n",
       "      <th>2</th>\n",
       "      <td>3</td>\n",
       "      <td>2</td>\n",
       "      <td>five_cheese_l</td>\n",
       "      <td>1</td>\n",
       "      <td>five_cheese</td>\n",
       "      <td>L</td>\n",
       "      <td>18.50</td>\n",
       "      <td>The Five Cheese Pizza</td>\n",
       "      <td>Veggie</td>\n",
       "      <td>Mozzarella Cheese, Provolone Cheese, Smoked Go...</td>\n",
       "    </tr>\n",
       "    <tr>\n",
       "      <th>3</th>\n",
       "      <td>4</td>\n",
       "      <td>2</td>\n",
       "      <td>ital_supr_l</td>\n",
       "      <td>1</td>\n",
       "      <td>ital_supr</td>\n",
       "      <td>L</td>\n",
       "      <td>20.75</td>\n",
       "      <td>The Italian Supreme Pizza</td>\n",
       "      <td>Supreme</td>\n",
       "      <td>Calabrese Salami, Capocollo, Tomatoes, Red Oni...</td>\n",
       "    </tr>\n",
       "    <tr>\n",
       "      <th>4</th>\n",
       "      <td>5</td>\n",
       "      <td>2</td>\n",
       "      <td>mexicana_m</td>\n",
       "      <td>1</td>\n",
       "      <td>mexicana</td>\n",
       "      <td>M</td>\n",
       "      <td>16.00</td>\n",
       "      <td>The Mexicana Pizza</td>\n",
       "      <td>Veggie</td>\n",
       "      <td>Tomatoes, Red Peppers, Jalapeno Peppers, Red O...</td>\n",
       "    </tr>\n",
       "  </tbody>\n",
       "</table>\n",
       "</div>"
      ],
      "text/plain": [
       "   order_details_id  order_id       pizza_id  quantity pizza_type_id size  \\\n",
       "0                 1         1     hawaiian_m         1      hawaiian    M   \n",
       "1                 2         2  classic_dlx_m         1   classic_dlx    M   \n",
       "2                 3         2  five_cheese_l         1   five_cheese    L   \n",
       "3                 4         2    ital_supr_l         1     ital_supr    L   \n",
       "4                 5         2     mexicana_m         1      mexicana    M   \n",
       "\n",
       "   price                       name category  \\\n",
       "0  13.25         The Hawaiian Pizza  Classic   \n",
       "1  16.00   The Classic Deluxe Pizza  Classic   \n",
       "2  18.50      The Five Cheese Pizza   Veggie   \n",
       "3  20.75  The Italian Supreme Pizza  Supreme   \n",
       "4  16.00         The Mexicana Pizza   Veggie   \n",
       "\n",
       "                                         ingredients  \n",
       "0           Sliced Ham, Pineapple, Mozzarella Cheese  \n",
       "1  Pepperoni, Mushrooms, Red Onions, Red Peppers,...  \n",
       "2  Mozzarella Cheese, Provolone Cheese, Smoked Go...  \n",
       "3  Calabrese Salami, Capocollo, Tomatoes, Red Oni...  \n",
       "4  Tomatoes, Red Peppers, Jalapeno Peppers, Red O...  "
      ]
     },
     "execution_count": 39,
     "metadata": {},
     "output_type": "execute_result"
    }
   ],
   "source": [
    "# Join DataFrames \"first_join\" and \"pizza_types_df\" based on a common column(key) \"pizza_type_id\" and store in \"second_join\"\n",
    "\n",
    "second_join = pd.merge(first_join, pizza_types_df, how=\"inner\", on=\"pizza_type_id\")\n",
    "\n",
    "# Return first five rows \n",
    "second_join.head()"
   ]
  },
  {
   "cell_type": "code",
   "execution_count": 40,
   "id": "c7f5b395-7006-4236-83fc-207694c1d937",
   "metadata": {},
   "outputs": [
    {
     "data": {
      "text/html": [
       "<div>\n",
       "<style scoped>\n",
       "    .dataframe tbody tr th:only-of-type {\n",
       "        vertical-align: middle;\n",
       "    }\n",
       "\n",
       "    .dataframe tbody tr th {\n",
       "        vertical-align: top;\n",
       "    }\n",
       "\n",
       "    .dataframe thead th {\n",
       "        text-align: right;\n",
       "    }\n",
       "</style>\n",
       "<table border=\"1\" class=\"dataframe\">\n",
       "  <thead>\n",
       "    <tr style=\"text-align: right;\">\n",
       "      <th></th>\n",
       "      <th>order_details_id</th>\n",
       "      <th>order_id</th>\n",
       "      <th>pizza_id</th>\n",
       "      <th>quantity</th>\n",
       "      <th>pizza_type_id</th>\n",
       "      <th>size</th>\n",
       "      <th>price</th>\n",
       "      <th>name</th>\n",
       "      <th>category</th>\n",
       "      <th>ingredients</th>\n",
       "      <th>date</th>\n",
       "      <th>time</th>\n",
       "    </tr>\n",
       "  </thead>\n",
       "  <tbody>\n",
       "    <tr>\n",
       "      <th>0</th>\n",
       "      <td>1</td>\n",
       "      <td>1</td>\n",
       "      <td>hawaiian_m</td>\n",
       "      <td>1</td>\n",
       "      <td>hawaiian</td>\n",
       "      <td>M</td>\n",
       "      <td>13.25</td>\n",
       "      <td>The Hawaiian Pizza</td>\n",
       "      <td>Classic</td>\n",
       "      <td>Sliced Ham, Pineapple, Mozzarella Cheese</td>\n",
       "      <td>2015-01-01</td>\n",
       "      <td>11:38:36</td>\n",
       "    </tr>\n",
       "    <tr>\n",
       "      <th>1</th>\n",
       "      <td>2</td>\n",
       "      <td>2</td>\n",
       "      <td>classic_dlx_m</td>\n",
       "      <td>1</td>\n",
       "      <td>classic_dlx</td>\n",
       "      <td>M</td>\n",
       "      <td>16.00</td>\n",
       "      <td>The Classic Deluxe Pizza</td>\n",
       "      <td>Classic</td>\n",
       "      <td>Pepperoni, Mushrooms, Red Onions, Red Peppers,...</td>\n",
       "      <td>2015-01-01</td>\n",
       "      <td>11:57:40</td>\n",
       "    </tr>\n",
       "    <tr>\n",
       "      <th>2</th>\n",
       "      <td>3</td>\n",
       "      <td>2</td>\n",
       "      <td>five_cheese_l</td>\n",
       "      <td>1</td>\n",
       "      <td>five_cheese</td>\n",
       "      <td>L</td>\n",
       "      <td>18.50</td>\n",
       "      <td>The Five Cheese Pizza</td>\n",
       "      <td>Veggie</td>\n",
       "      <td>Mozzarella Cheese, Provolone Cheese, Smoked Go...</td>\n",
       "      <td>2015-01-01</td>\n",
       "      <td>11:57:40</td>\n",
       "    </tr>\n",
       "    <tr>\n",
       "      <th>3</th>\n",
       "      <td>4</td>\n",
       "      <td>2</td>\n",
       "      <td>ital_supr_l</td>\n",
       "      <td>1</td>\n",
       "      <td>ital_supr</td>\n",
       "      <td>L</td>\n",
       "      <td>20.75</td>\n",
       "      <td>The Italian Supreme Pizza</td>\n",
       "      <td>Supreme</td>\n",
       "      <td>Calabrese Salami, Capocollo, Tomatoes, Red Oni...</td>\n",
       "      <td>2015-01-01</td>\n",
       "      <td>11:57:40</td>\n",
       "    </tr>\n",
       "    <tr>\n",
       "      <th>4</th>\n",
       "      <td>5</td>\n",
       "      <td>2</td>\n",
       "      <td>mexicana_m</td>\n",
       "      <td>1</td>\n",
       "      <td>mexicana</td>\n",
       "      <td>M</td>\n",
       "      <td>16.00</td>\n",
       "      <td>The Mexicana Pizza</td>\n",
       "      <td>Veggie</td>\n",
       "      <td>Tomatoes, Red Peppers, Jalapeno Peppers, Red O...</td>\n",
       "      <td>2015-01-01</td>\n",
       "      <td>11:57:40</td>\n",
       "    </tr>\n",
       "  </tbody>\n",
       "</table>\n",
       "</div>"
      ],
      "text/plain": [
       "   order_details_id  order_id       pizza_id  quantity pizza_type_id size  \\\n",
       "0                 1         1     hawaiian_m         1      hawaiian    M   \n",
       "1                 2         2  classic_dlx_m         1   classic_dlx    M   \n",
       "2                 3         2  five_cheese_l         1   five_cheese    L   \n",
       "3                 4         2    ital_supr_l         1     ital_supr    L   \n",
       "4                 5         2     mexicana_m         1      mexicana    M   \n",
       "\n",
       "   price                       name category  \\\n",
       "0  13.25         The Hawaiian Pizza  Classic   \n",
       "1  16.00   The Classic Deluxe Pizza  Classic   \n",
       "2  18.50      The Five Cheese Pizza   Veggie   \n",
       "3  20.75  The Italian Supreme Pizza  Supreme   \n",
       "4  16.00         The Mexicana Pizza   Veggie   \n",
       "\n",
       "                                         ingredients       date      time  \n",
       "0           Sliced Ham, Pineapple, Mozzarella Cheese 2015-01-01  11:38:36  \n",
       "1  Pepperoni, Mushrooms, Red Onions, Red Peppers,... 2015-01-01  11:57:40  \n",
       "2  Mozzarella Cheese, Provolone Cheese, Smoked Go... 2015-01-01  11:57:40  \n",
       "3  Calabrese Salami, Capocollo, Tomatoes, Red Oni... 2015-01-01  11:57:40  \n",
       "4  Tomatoes, Red Peppers, Jalapeno Peppers, Red O... 2015-01-01  11:57:40  "
      ]
     },
     "execution_count": 40,
     "metadata": {},
     "output_type": "execute_result"
    }
   ],
   "source": [
    "# Join DataFrames \"second_join\" and \"orders_df\" based on a common column(key) \"order_id\" and store in \"df\"\n",
    "\n",
    "# \"df\" will be the master DataFrame\n",
    "\n",
    "df = pd.merge(second_join, orders_df, how=\"inner\", on=\"order_id\")\n",
    "\n",
    "# Return first five rows \n",
    "df.head()"
   ]
  },
  {
   "cell_type": "code",
   "execution_count": 41,
   "id": "4946bc29-4def-42dd-86a3-c330d23fee89",
   "metadata": {},
   "outputs": [
    {
     "name": "stdout",
     "output_type": "stream",
     "text": [
      "Master DataFrame contains 48620 rows and 12 columns\n",
      "\n",
      "\n",
      "<class 'pandas.core.frame.DataFrame'>\n",
      "RangeIndex: 48620 entries, 0 to 48619\n",
      "Data columns (total 12 columns):\n",
      " #   Column            Non-Null Count  Dtype         \n",
      "---  ------            --------------  -----         \n",
      " 0   order_details_id  48620 non-null  int64         \n",
      " 1   order_id          48620 non-null  int64         \n",
      " 2   pizza_id          48620 non-null  object        \n",
      " 3   quantity          48620 non-null  int64         \n",
      " 4   pizza_type_id     48620 non-null  object        \n",
      " 5   size              48620 non-null  object        \n",
      " 6   price             48620 non-null  float64       \n",
      " 7   name              48620 non-null  object        \n",
      " 8   category          48620 non-null  object        \n",
      " 9   ingredients       48620 non-null  object        \n",
      " 10  date              48620 non-null  datetime64[ns]\n",
      " 11  time              48620 non-null  object        \n",
      "dtypes: datetime64[ns](1), float64(1), int64(3), object(7)\n",
      "memory usage: 4.5+ MB\n"
     ]
    }
   ],
   "source": [
    "# This line of code returns number of rows and columns present in the dataset\n",
    "print(f\"Master DataFrame contains {df.shape[0]} rows and {df.shape[1]} columns\")\n",
    "print(\"\\n\") # This code instructs the program to move to a new line.\n",
    "\n",
    "#  Review a quick summary of the dataset\n",
    "df.info()"
   ]
  },
  {
   "cell_type": "code",
   "execution_count": 42,
   "id": "f8fc33ad-4411-4a33-852d-d792cf0f2253",
   "metadata": {},
   "outputs": [
    {
     "data": {
      "text/plain": [
       "order_details_id    0\n",
       "order_id            0\n",
       "pizza_id            0\n",
       "quantity            0\n",
       "pizza_type_id       0\n",
       "size                0\n",
       "price               0\n",
       "name                0\n",
       "category            0\n",
       "ingredients         0\n",
       "date                0\n",
       "time                0\n",
       "dtype: int64"
      ]
     },
     "execution_count": 42,
     "metadata": {},
     "output_type": "execute_result"
    }
   ],
   "source": [
    "# Check number of null values\n",
    "\n",
    "df.isna().sum()"
   ]
  },
  {
   "cell_type": "code",
   "execution_count": 43,
   "id": "b3c2485b-d404-4ce7-92d6-7492cdc21dbf",
   "metadata": {},
   "outputs": [
    {
     "data": {
      "text/html": [
       "<div>\n",
       "<style scoped>\n",
       "    .dataframe tbody tr th:only-of-type {\n",
       "        vertical-align: middle;\n",
       "    }\n",
       "\n",
       "    .dataframe tbody tr th {\n",
       "        vertical-align: top;\n",
       "    }\n",
       "\n",
       "    .dataframe thead th {\n",
       "        text-align: right;\n",
       "    }\n",
       "</style>\n",
       "<table border=\"1\" class=\"dataframe\">\n",
       "  <thead>\n",
       "    <tr style=\"text-align: right;\">\n",
       "      <th></th>\n",
       "      <th>order_details_id</th>\n",
       "      <th>order_id</th>\n",
       "      <th>quantity</th>\n",
       "      <th>price</th>\n",
       "      <th>date</th>\n",
       "    </tr>\n",
       "  </thead>\n",
       "  <tbody>\n",
       "    <tr>\n",
       "      <th>count</th>\n",
       "      <td>48620.000000</td>\n",
       "      <td>48620.000000</td>\n",
       "      <td>48620.000000</td>\n",
       "      <td>48620.000000</td>\n",
       "      <td>48620</td>\n",
       "    </tr>\n",
       "    <tr>\n",
       "      <th>mean</th>\n",
       "      <td>24310.500000</td>\n",
       "      <td>10701.479761</td>\n",
       "      <td>1.019622</td>\n",
       "      <td>16.494132</td>\n",
       "      <td>2015-06-29 11:03:43.611682560</td>\n",
       "    </tr>\n",
       "    <tr>\n",
       "      <th>min</th>\n",
       "      <td>1.000000</td>\n",
       "      <td>1.000000</td>\n",
       "      <td>1.000000</td>\n",
       "      <td>9.750000</td>\n",
       "      <td>2015-01-01 00:00:00</td>\n",
       "    </tr>\n",
       "    <tr>\n",
       "      <th>25%</th>\n",
       "      <td>12155.750000</td>\n",
       "      <td>5337.000000</td>\n",
       "      <td>1.000000</td>\n",
       "      <td>12.750000</td>\n",
       "      <td>2015-03-31 00:00:00</td>\n",
       "    </tr>\n",
       "    <tr>\n",
       "      <th>50%</th>\n",
       "      <td>24310.500000</td>\n",
       "      <td>10682.500000</td>\n",
       "      <td>1.000000</td>\n",
       "      <td>16.500000</td>\n",
       "      <td>2015-06-28 00:00:00</td>\n",
       "    </tr>\n",
       "    <tr>\n",
       "      <th>75%</th>\n",
       "      <td>36465.250000</td>\n",
       "      <td>16100.000000</td>\n",
       "      <td>1.000000</td>\n",
       "      <td>20.250000</td>\n",
       "      <td>2015-09-28 00:00:00</td>\n",
       "    </tr>\n",
       "    <tr>\n",
       "      <th>max</th>\n",
       "      <td>48620.000000</td>\n",
       "      <td>21350.000000</td>\n",
       "      <td>4.000000</td>\n",
       "      <td>35.950000</td>\n",
       "      <td>2015-12-31 00:00:00</td>\n",
       "    </tr>\n",
       "    <tr>\n",
       "      <th>std</th>\n",
       "      <td>14035.529381</td>\n",
       "      <td>6180.119770</td>\n",
       "      <td>0.143077</td>\n",
       "      <td>3.621789</td>\n",
       "      <td>NaN</td>\n",
       "    </tr>\n",
       "  </tbody>\n",
       "</table>\n",
       "</div>"
      ],
      "text/plain": [
       "       order_details_id      order_id      quantity         price  \\\n",
       "count      48620.000000  48620.000000  48620.000000  48620.000000   \n",
       "mean       24310.500000  10701.479761      1.019622     16.494132   \n",
       "min            1.000000      1.000000      1.000000      9.750000   \n",
       "25%        12155.750000   5337.000000      1.000000     12.750000   \n",
       "50%        24310.500000  10682.500000      1.000000     16.500000   \n",
       "75%        36465.250000  16100.000000      1.000000     20.250000   \n",
       "max        48620.000000  21350.000000      4.000000     35.950000   \n",
       "std        14035.529381   6180.119770      0.143077      3.621789   \n",
       "\n",
       "                                date  \n",
       "count                          48620  \n",
       "mean   2015-06-29 11:03:43.611682560  \n",
       "min              2015-01-01 00:00:00  \n",
       "25%              2015-03-31 00:00:00  \n",
       "50%              2015-06-28 00:00:00  \n",
       "75%              2015-09-28 00:00:00  \n",
       "max              2015-12-31 00:00:00  \n",
       "std                              NaN  "
      ]
     },
     "execution_count": 43,
     "metadata": {},
     "output_type": "execute_result"
    }
   ],
   "source": [
    "# Check numeric stats\n",
    "\n",
    "df.describe()"
   ]
  },
  {
   "cell_type": "markdown",
   "id": "6df5b8dc-269f-410c-be28-92a8d7b877ca",
   "metadata": {},
   "source": [
    "## ***Data Analysis***"
   ]
  },
  {
   "cell_type": "markdown",
   "id": "6cd8edd1-da6d-4c83-8099-96b73ed04cdc",
   "metadata": {},
   "source": [
    "### *1. Total revenue/sales*"
   ]
  },
  {
   "cell_type": "code",
   "execution_count": 46,
   "id": "2d39f792-beb7-4dc3-906f-3e227bffae9f",
   "metadata": {},
   "outputs": [
    {
     "name": "stdout",
     "output_type": "stream",
     "text": [
      "Total Revenue: 817,860.05\n"
     ]
    }
   ],
   "source": [
    "# Calculate revenue for each row using \"price\" and \"quantity\" columns and sum up the result of the series to get the total revenue\n",
    "\n",
    "total_revenue = (df[\"price\"] * df[\"quantity\"]).sum()\n",
    "\n",
    "print(f\"Total Revenue: {total_revenue:,.2f}\")"
   ]
  },
  {
   "cell_type": "markdown",
   "id": "cc0e2d08-870b-4e9d-9fe0-2a2f01907d86",
   "metadata": {},
   "source": [
    "### *2. Total quantity sold*"
   ]
  },
  {
   "cell_type": "code",
   "execution_count": 48,
   "id": "bdcb4b72-6bfe-4126-b3f5-b92529287d8d",
   "metadata": {},
   "outputs": [
    {
     "name": "stdout",
     "output_type": "stream",
     "text": [
      "Total Quantity Sold: 49,574\n"
     ]
    }
   ],
   "source": [
    "# Calculate total quantity by summing up \"quantity\" column across all rows\n",
    "\n",
    "total_quantity_sold = df[\"quantity\"].sum()\n",
    "\n",
    "print(f\"Total Quantity Sold: {total_quantity_sold:,.0f}\")"
   ]
  },
  {
   "cell_type": "markdown",
   "id": "b8010ed9-7949-412f-974c-f0a3a34778cc",
   "metadata": {},
   "source": [
    "### *3. Total number of orders*"
   ]
  },
  {
   "cell_type": "code",
   "execution_count": 50,
   "id": "e61c1cf0-fed2-4ecf-a014-bfb118b6d6e7",
   "metadata": {},
   "outputs": [
    {
     "name": "stdout",
     "output_type": "stream",
     "text": [
      "Total Number of Orders: 21,350\n"
     ]
    }
   ],
   "source": [
    "# Find total orders by counting unique values of the column \"order_id\"\n",
    "\n",
    "total_orders = df[\"order_id\"].nunique()\n",
    "\n",
    "print(f\"Total Number of Orders: {total_orders:,.0f}\")"
   ]
  },
  {
   "cell_type": "markdown",
   "id": "e8483af3-395e-4c21-9f58-f9b6f57b8485",
   "metadata": {},
   "source": [
    "### *4. Total Number of pizza types*"
   ]
  },
  {
   "cell_type": "code",
   "execution_count": 52,
   "id": "660dac45-4e2d-47be-9805-f4d0d54a2492",
   "metadata": {},
   "outputs": [
    {
     "name": "stdout",
     "output_type": "stream",
     "text": [
      "Total Number of Pizza Types: 32\n"
     ]
    }
   ],
   "source": [
    "# Find total count of pizza types by counting unique values of the column \"pizza_type_id\"\n",
    "\n",
    "total_pizza_types = df[\"pizza_type_id\"].nunique()\n",
    "\n",
    "print(f\"Total Number of Pizza Types: {total_pizza_types}\")"
   ]
  },
  {
   "cell_type": "markdown",
   "id": "7f6c8767-dc10-441d-9e7f-8d1d76a72213",
   "metadata": {},
   "source": [
    "### *5. Average price of the pizzas*"
   ]
  },
  {
   "cell_type": "code",
   "execution_count": 54,
   "id": "d88ad082-d920-4b1c-99d1-a349cbdcb3eb",
   "metadata": {},
   "outputs": [
    {
     "name": "stdout",
     "output_type": "stream",
     "text": [
      "Average Price of Pizzas: 16.49\n"
     ]
    }
   ],
   "source": [
    "# Calculate average price of pizzas using mean() method\n",
    "\n",
    "average_price = df[\"price\"].mean()\n",
    "\n",
    "print(f\"Average Price of Pizzas: {average_price:.2f}\")"
   ]
  },
  {
   "cell_type": "markdown",
   "id": "30afaadf-42ab-4a9d-ba19-74258b177879",
   "metadata": {},
   "source": [
    "### *6. Peak hours of sales*"
   ]
  },
  {
   "cell_type": "code",
   "execution_count": 56,
   "id": "520f981c-777f-4c2a-82c6-043b2ecb4188",
   "metadata": {},
   "outputs": [
    {
     "name": "stdout",
     "output_type": "stream",
     "text": [
      "Hourly Sales:\n"
     ]
    },
    {
     "data": {
      "text/html": [
       "<div>\n",
       "<style scoped>\n",
       "    .dataframe tbody tr th:only-of-type {\n",
       "        vertical-align: middle;\n",
       "    }\n",
       "\n",
       "    .dataframe tbody tr th {\n",
       "        vertical-align: top;\n",
       "    }\n",
       "\n",
       "    .dataframe thead th {\n",
       "        text-align: right;\n",
       "    }\n",
       "</style>\n",
       "<table border=\"1\" class=\"dataframe\">\n",
       "  <thead>\n",
       "    <tr style=\"text-align: right;\">\n",
       "      <th></th>\n",
       "      <th>hour</th>\n",
       "      <th>quantity</th>\n",
       "    </tr>\n",
       "  </thead>\n",
       "  <tbody>\n",
       "    <tr>\n",
       "      <th>0</th>\n",
       "      <td>12</td>\n",
       "      <td>6776</td>\n",
       "    </tr>\n",
       "    <tr>\n",
       "      <th>1</th>\n",
       "      <td>13</td>\n",
       "      <td>6413</td>\n",
       "    </tr>\n",
       "    <tr>\n",
       "      <th>2</th>\n",
       "      <td>18</td>\n",
       "      <td>5417</td>\n",
       "    </tr>\n",
       "    <tr>\n",
       "      <th>3</th>\n",
       "      <td>17</td>\n",
       "      <td>5211</td>\n",
       "    </tr>\n",
       "    <tr>\n",
       "      <th>4</th>\n",
       "      <td>19</td>\n",
       "      <td>4406</td>\n",
       "    </tr>\n",
       "    <tr>\n",
       "      <th>5</th>\n",
       "      <td>16</td>\n",
       "      <td>4239</td>\n",
       "    </tr>\n",
       "    <tr>\n",
       "      <th>6</th>\n",
       "      <td>14</td>\n",
       "      <td>3613</td>\n",
       "    </tr>\n",
       "    <tr>\n",
       "      <th>7</th>\n",
       "      <td>20</td>\n",
       "      <td>3534</td>\n",
       "    </tr>\n",
       "    <tr>\n",
       "      <th>8</th>\n",
       "      <td>15</td>\n",
       "      <td>3216</td>\n",
       "    </tr>\n",
       "    <tr>\n",
       "      <th>9</th>\n",
       "      <td>11</td>\n",
       "      <td>2728</td>\n",
       "    </tr>\n",
       "    <tr>\n",
       "      <th>10</th>\n",
       "      <td>21</td>\n",
       "      <td>2545</td>\n",
       "    </tr>\n",
       "    <tr>\n",
       "      <th>11</th>\n",
       "      <td>22</td>\n",
       "      <td>1386</td>\n",
       "    </tr>\n",
       "    <tr>\n",
       "      <th>12</th>\n",
       "      <td>23</td>\n",
       "      <td>68</td>\n",
       "    </tr>\n",
       "    <tr>\n",
       "      <th>13</th>\n",
       "      <td>10</td>\n",
       "      <td>18</td>\n",
       "    </tr>\n",
       "    <tr>\n",
       "      <th>14</th>\n",
       "      <td>9</td>\n",
       "      <td>4</td>\n",
       "    </tr>\n",
       "  </tbody>\n",
       "</table>\n",
       "</div>"
      ],
      "text/plain": [
       "    hour  quantity\n",
       "0     12      6776\n",
       "1     13      6413\n",
       "2     18      5417\n",
       "3     17      5211\n",
       "4     19      4406\n",
       "5     16      4239\n",
       "6     14      3613\n",
       "7     20      3534\n",
       "8     15      3216\n",
       "9     11      2728\n",
       "10    21      2545\n",
       "11    22      1386\n",
       "12    23        68\n",
       "13    10        18\n",
       "14     9         4"
      ]
     },
     "execution_count": 56,
     "metadata": {},
     "output_type": "execute_result"
    }
   ],
   "source": [
    "# This line of code extracts hour from the existing \"datetime.time\" object which has hour attribute and then applies it to the rows in \"time\" column\n",
    "# then saves the records in a new column \"hour\"\n",
    "\n",
    "df[\"hour\"] = df[\"time\"].apply(lambda t: t.hour)\n",
    "\n",
    "# Find peak hours of sales by grouping \"hour\" column and calculate sum of quantities sold per hour and then sort values in descending\n",
    "# order and return the first 5 records\n",
    "\n",
    "peak_hours = df.groupby(\"hour\")[\"quantity\"].sum().sort_values(ascending=False).reset_index()\n",
    "\n",
    "# Display output\n",
    "print(\"Hourly Sales:\")\n",
    "peak_hours"
   ]
  },
  {
   "cell_type": "markdown",
   "id": "740743ac-73c1-4cba-9470-dc9238bb9430",
   "metadata": {},
   "source": [
    "##### Lunch hour 12 - 13(12–1 pm) and early dinner hour 17 - 19(5–7 pm) are busiest."
   ]
  },
  {
   "cell_type": "markdown",
   "id": "a0f52bec-3f05-45d9-b622-ff6874849d41",
   "metadata": {},
   "source": [
    "### *7. Total sales by day of week & best day*"
   ]
  },
  {
   "cell_type": "code",
   "execution_count": 59,
   "id": "6901d1f3-2a3e-4d91-a4b9-1c339d1cb5d8",
   "metadata": {},
   "outputs": [
    {
     "name": "stdout",
     "output_type": "stream",
     "text": [
      "Total Sales By Day of Week:\n"
     ]
    },
    {
     "data": {
      "text/html": [
       "<div>\n",
       "<style scoped>\n",
       "    .dataframe tbody tr th:only-of-type {\n",
       "        vertical-align: middle;\n",
       "    }\n",
       "\n",
       "    .dataframe tbody tr th {\n",
       "        vertical-align: top;\n",
       "    }\n",
       "\n",
       "    .dataframe thead th {\n",
       "        text-align: right;\n",
       "    }\n",
       "</style>\n",
       "<table border=\"1\" class=\"dataframe\">\n",
       "  <thead>\n",
       "    <tr style=\"text-align: right;\">\n",
       "      <th></th>\n",
       "      <th>day_of_week</th>\n",
       "      <th>quantity</th>\n",
       "    </tr>\n",
       "  </thead>\n",
       "  <tbody>\n",
       "    <tr>\n",
       "      <th>0</th>\n",
       "      <td>Friday</td>\n",
       "      <td>8242</td>\n",
       "    </tr>\n",
       "    <tr>\n",
       "      <th>1</th>\n",
       "      <td>Saturday</td>\n",
       "      <td>7493</td>\n",
       "    </tr>\n",
       "    <tr>\n",
       "      <th>2</th>\n",
       "      <td>Thursday</td>\n",
       "      <td>7478</td>\n",
       "    </tr>\n",
       "    <tr>\n",
       "      <th>3</th>\n",
       "      <td>Wednesday</td>\n",
       "      <td>6946</td>\n",
       "    </tr>\n",
       "    <tr>\n",
       "      <th>4</th>\n",
       "      <td>Tuesday</td>\n",
       "      <td>6895</td>\n",
       "    </tr>\n",
       "    <tr>\n",
       "      <th>5</th>\n",
       "      <td>Monday</td>\n",
       "      <td>6485</td>\n",
       "    </tr>\n",
       "    <tr>\n",
       "      <th>6</th>\n",
       "      <td>Sunday</td>\n",
       "      <td>6035</td>\n",
       "    </tr>\n",
       "  </tbody>\n",
       "</table>\n",
       "</div>"
      ],
      "text/plain": [
       "  day_of_week  quantity\n",
       "0      Friday      8242\n",
       "1    Saturday      7493\n",
       "2    Thursday      7478\n",
       "3   Wednesday      6946\n",
       "4     Tuesday      6895\n",
       "5      Monday      6485\n",
       "6      Sunday      6035"
      ]
     },
     "execution_count": 59,
     "metadata": {},
     "output_type": "execute_result"
    }
   ],
   "source": [
    "# This line of code extracts days of the week from \"datetime\" using the method \"day_name()\"\n",
    "# then saves the days of the week in a new column \"day_of_week\"\n",
    "\n",
    "df[\"day_of_week\"] = df[\"date\"].dt.day_name()\n",
    "\n",
    "# Find total sales of each day in week by grouping \"day_of_week\" column and calculate sum of quantities sold per day and then sort values in \n",
    "# descending order\n",
    "\n",
    "sales_by_day = df.groupby(\"day_of_week\")[\"quantity\"].sum().sort_values(ascending=False).reset_index()\n",
    "\n",
    "# Display output\n",
    "print(\"Total Sales By Day of Week:\")\n",
    "sales_by_day"
   ]
  },
  {
   "cell_type": "markdown",
   "id": "35fdee4c-d438-4114-b748-1b5326ef32b8",
   "metadata": {},
   "source": [
    "##### Friday is the top-selling day with about 8.2k quantities sold "
   ]
  },
  {
   "cell_type": "markdown",
   "id": "b80467bc-0b7f-4fe0-a21e-cf4f3cedf227",
   "metadata": {},
   "source": [
    "### *8. Top 5 best-selling pizzas*"
   ]
  },
  {
   "cell_type": "code",
   "execution_count": 62,
   "id": "d23c56c1-541c-475c-82ab-dedb08a5ddee",
   "metadata": {},
   "outputs": [
    {
     "name": "stdout",
     "output_type": "stream",
     "text": [
      "Top 5 best-selling pizzas:\n"
     ]
    },
    {
     "data": {
      "text/html": [
       "<div>\n",
       "<style scoped>\n",
       "    .dataframe tbody tr th:only-of-type {\n",
       "        vertical-align: middle;\n",
       "    }\n",
       "\n",
       "    .dataframe tbody tr th {\n",
       "        vertical-align: top;\n",
       "    }\n",
       "\n",
       "    .dataframe thead th {\n",
       "        text-align: right;\n",
       "    }\n",
       "</style>\n",
       "<table border=\"1\" class=\"dataframe\">\n",
       "  <thead>\n",
       "    <tr style=\"text-align: right;\">\n",
       "      <th></th>\n",
       "      <th>name</th>\n",
       "      <th>quantity</th>\n",
       "    </tr>\n",
       "  </thead>\n",
       "  <tbody>\n",
       "    <tr>\n",
       "      <th>0</th>\n",
       "      <td>The Classic Deluxe Pizza</td>\n",
       "      <td>2453</td>\n",
       "    </tr>\n",
       "    <tr>\n",
       "      <th>1</th>\n",
       "      <td>The Barbecue Chicken Pizza</td>\n",
       "      <td>2432</td>\n",
       "    </tr>\n",
       "    <tr>\n",
       "      <th>2</th>\n",
       "      <td>The Hawaiian Pizza</td>\n",
       "      <td>2422</td>\n",
       "    </tr>\n",
       "    <tr>\n",
       "      <th>3</th>\n",
       "      <td>The Pepperoni Pizza</td>\n",
       "      <td>2418</td>\n",
       "    </tr>\n",
       "    <tr>\n",
       "      <th>4</th>\n",
       "      <td>The Thai Chicken Pizza</td>\n",
       "      <td>2371</td>\n",
       "    </tr>\n",
       "  </tbody>\n",
       "</table>\n",
       "</div>"
      ],
      "text/plain": [
       "                         name  quantity\n",
       "0    The Classic Deluxe Pizza      2453\n",
       "1  The Barbecue Chicken Pizza      2432\n",
       "2          The Hawaiian Pizza      2422\n",
       "3         The Pepperoni Pizza      2418\n",
       "4      The Thai Chicken Pizza      2371"
      ]
     },
     "execution_count": 62,
     "metadata": {},
     "output_type": "execute_result"
    }
   ],
   "source": [
    "# Find 5 best selling pizzas by grouping \"name\" column and calculate sum of quantities sold per pizza type and then sort values\n",
    "# in descending order and return the first five records\n",
    "\n",
    "top5 = df.groupby(\"name\")[\"quantity\"].sum().sort_values(ascending=False).reset_index().head()\n",
    "\n",
    "# Display output\n",
    "print(\"Top 5 best-selling pizzas:\")\n",
    "top5"
   ]
  },
  {
   "cell_type": "markdown",
   "id": "fb289262-ee54-4766-884f-cd6644a0d4af",
   "metadata": {},
   "source": [
    "Based on total quantity sold, the **five best-selling pizzas** are: **Classic Deluxe**, **Barbecue Chicken**, **Hawaiian**, **Pepperoni**,\n",
    "**Thai Chicken**. These pizzas account for a significant share of total revenue and should remain the core focus for promotions, inventory planning, and combo deals."
   ]
  },
  {
   "cell_type": "markdown",
   "id": "e7fab03d-bc7f-496a-b833-65e573fd67a8",
   "metadata": {},
   "source": [
    "### *9. Monthly Sales Trend*"
   ]
  },
  {
   "cell_type": "code",
   "execution_count": 65,
   "id": "b1fc42b9-9c41-443e-b0e3-cc6c5e1b9574",
   "metadata": {},
   "outputs": [
    {
     "name": "stdout",
     "output_type": "stream",
     "text": [
      "Monthly Sales:\n"
     ]
    },
    {
     "data": {
      "text/html": [
       "<div>\n",
       "<style scoped>\n",
       "    .dataframe tbody tr th:only-of-type {\n",
       "        vertical-align: middle;\n",
       "    }\n",
       "\n",
       "    .dataframe tbody tr th {\n",
       "        vertical-align: top;\n",
       "    }\n",
       "\n",
       "    .dataframe thead th {\n",
       "        text-align: right;\n",
       "    }\n",
       "</style>\n",
       "<table border=\"1\" class=\"dataframe\">\n",
       "  <thead>\n",
       "    <tr style=\"text-align: right;\">\n",
       "      <th></th>\n",
       "      <th>month</th>\n",
       "      <th>quantity</th>\n",
       "    </tr>\n",
       "  </thead>\n",
       "  <tbody>\n",
       "    <tr>\n",
       "      <th>0</th>\n",
       "      <td>July</td>\n",
       "      <td>4392</td>\n",
       "    </tr>\n",
       "    <tr>\n",
       "      <th>1</th>\n",
       "      <td>May</td>\n",
       "      <td>4328</td>\n",
       "    </tr>\n",
       "    <tr>\n",
       "      <th>2</th>\n",
       "      <td>November</td>\n",
       "      <td>4266</td>\n",
       "    </tr>\n",
       "    <tr>\n",
       "      <th>3</th>\n",
       "      <td>March</td>\n",
       "      <td>4261</td>\n",
       "    </tr>\n",
       "    <tr>\n",
       "      <th>4</th>\n",
       "      <td>January</td>\n",
       "      <td>4232</td>\n",
       "    </tr>\n",
       "    <tr>\n",
       "      <th>5</th>\n",
       "      <td>August</td>\n",
       "      <td>4168</td>\n",
       "    </tr>\n",
       "    <tr>\n",
       "      <th>6</th>\n",
       "      <td>April</td>\n",
       "      <td>4151</td>\n",
       "    </tr>\n",
       "    <tr>\n",
       "      <th>7</th>\n",
       "      <td>June</td>\n",
       "      <td>4107</td>\n",
       "    </tr>\n",
       "    <tr>\n",
       "      <th>8</th>\n",
       "      <td>February</td>\n",
       "      <td>3961</td>\n",
       "    </tr>\n",
       "    <tr>\n",
       "      <th>9</th>\n",
       "      <td>December</td>\n",
       "      <td>3935</td>\n",
       "    </tr>\n",
       "    <tr>\n",
       "      <th>10</th>\n",
       "      <td>September</td>\n",
       "      <td>3890</td>\n",
       "    </tr>\n",
       "    <tr>\n",
       "      <th>11</th>\n",
       "      <td>October</td>\n",
       "      <td>3883</td>\n",
       "    </tr>\n",
       "  </tbody>\n",
       "</table>\n",
       "</div>"
      ],
      "text/plain": [
       "        month  quantity\n",
       "0        July      4392\n",
       "1         May      4328\n",
       "2    November      4266\n",
       "3       March      4261\n",
       "4     January      4232\n",
       "5      August      4168\n",
       "6       April      4151\n",
       "7        June      4107\n",
       "8    February      3961\n",
       "9    December      3935\n",
       "10  September      3890\n",
       "11    October      3883"
      ]
     },
     "execution_count": 65,
     "metadata": {},
     "output_type": "execute_result"
    }
   ],
   "source": [
    "# This line of code extracts month names from \"datetime\" using the method \"month_name()\"\n",
    "# then saves the records in a new column \"month\"\n",
    "\n",
    "df[\"month\"] = df[\"date\"].dt.month_name()\n",
    "\n",
    "# Find the sales made in each month by grouping \"month\" column and calculate the sum of quantities sold per month\n",
    "\n",
    "sales_by_month = df.groupby(\"month\")[\"quantity\"].sum().sort_values(ascending=False).reset_index()\n",
    "\n",
    "# Display output\n",
    "print(\"Monthly Sales:\")\n",
    "sales_by_month"
   ]
  },
  {
   "cell_type": "markdown",
   "id": "7dd15566-96eb-4be2-a00f-79ae92786825",
   "metadata": {},
   "source": [
    "##### The month with the highest sales is 'July' and the month with the lowest sales is 'October'"
   ]
  },
  {
   "cell_type": "markdown",
   "id": "bbf885d8-e39c-494c-a6d7-0db2fce0bcdf",
   "metadata": {},
   "source": [
    "### *10. Low-selling pizzas*"
   ]
  },
  {
   "cell_type": "code",
   "execution_count": 68,
   "id": "0304aca3-ae7a-4091-8c59-43c300b8ae57",
   "metadata": {},
   "outputs": [
    {
     "name": "stdout",
     "output_type": "stream",
     "text": [
      "Low-selling pizzas are:\n"
     ]
    },
    {
     "data": {
      "text/html": [
       "<div>\n",
       "<style scoped>\n",
       "    .dataframe tbody tr th:only-of-type {\n",
       "        vertical-align: middle;\n",
       "    }\n",
       "\n",
       "    .dataframe tbody tr th {\n",
       "        vertical-align: top;\n",
       "    }\n",
       "\n",
       "    .dataframe thead th {\n",
       "        text-align: right;\n",
       "    }\n",
       "</style>\n",
       "<table border=\"1\" class=\"dataframe\">\n",
       "  <thead>\n",
       "    <tr style=\"text-align: right;\">\n",
       "      <th></th>\n",
       "      <th>name</th>\n",
       "      <th>quantity</th>\n",
       "    </tr>\n",
       "  </thead>\n",
       "  <tbody>\n",
       "    <tr>\n",
       "      <th>0</th>\n",
       "      <td>The Brie Carre Pizza</td>\n",
       "      <td>490</td>\n",
       "    </tr>\n",
       "    <tr>\n",
       "      <th>1</th>\n",
       "      <td>The Mediterranean Pizza</td>\n",
       "      <td>934</td>\n",
       "    </tr>\n",
       "    <tr>\n",
       "      <th>2</th>\n",
       "      <td>The Calabrese Pizza</td>\n",
       "      <td>937</td>\n",
       "    </tr>\n",
       "    <tr>\n",
       "      <th>3</th>\n",
       "      <td>The Spinach Supreme Pizza</td>\n",
       "      <td>950</td>\n",
       "    </tr>\n",
       "    <tr>\n",
       "      <th>4</th>\n",
       "      <td>The Soppressata Pizza</td>\n",
       "      <td>961</td>\n",
       "    </tr>\n",
       "  </tbody>\n",
       "</table>\n",
       "</div>"
      ],
      "text/plain": [
       "                        name  quantity\n",
       "0       The Brie Carre Pizza       490\n",
       "1    The Mediterranean Pizza       934\n",
       "2        The Calabrese Pizza       937\n",
       "3  The Spinach Supreme Pizza       950\n",
       "4      The Soppressata Pizza       961"
      ]
     },
     "execution_count": 68,
     "metadata": {},
     "output_type": "execute_result"
    }
   ],
   "source": [
    "# Find 5 least selling pizzas by grouping \"name\" column and calculate sum of quantities sold per pizza type and then sort values\n",
    "# in ascending order and return the first five records\n",
    "\n",
    "low_sellers = df.groupby(\"name\")[\"quantity\"].sum().sort_values().reset_index().head()\n",
    "\n",
    "# Display Output\n",
    "print(\"Low-selling pizzas are:\")\n",
    "low_sellers"
   ]
  },
  {
   "cell_type": "markdown",
   "id": "0b44d5a2-a384-4447-958e-398739092b6a",
   "metadata": {},
   "source": [
    "##### The data shows a handful of pizzas with **consistently low sales volumes**"
   ]
  },
  {
   "cell_type": "markdown",
   "id": "051fd110-2c49-4e2c-960b-3fc946eef084",
   "metadata": {},
   "source": [
    "### *11. Sales by pizza size*"
   ]
  },
  {
   "cell_type": "code",
   "execution_count": 71,
   "id": "a59d09a6-d9df-4485-a863-57295cb1cc6e",
   "metadata": {},
   "outputs": [
    {
     "name": "stdout",
     "output_type": "stream",
     "text": [
      "Sales by Size:\n"
     ]
    },
    {
     "data": {
      "text/html": [
       "<div>\n",
       "<style scoped>\n",
       "    .dataframe tbody tr th:only-of-type {\n",
       "        vertical-align: middle;\n",
       "    }\n",
       "\n",
       "    .dataframe tbody tr th {\n",
       "        vertical-align: top;\n",
       "    }\n",
       "\n",
       "    .dataframe thead th {\n",
       "        text-align: right;\n",
       "    }\n",
       "</style>\n",
       "<table border=\"1\" class=\"dataframe\">\n",
       "  <thead>\n",
       "    <tr style=\"text-align: right;\">\n",
       "      <th></th>\n",
       "      <th>size</th>\n",
       "      <th>quantity</th>\n",
       "    </tr>\n",
       "  </thead>\n",
       "  <tbody>\n",
       "    <tr>\n",
       "      <th>0</th>\n",
       "      <td>L</td>\n",
       "      <td>18956</td>\n",
       "    </tr>\n",
       "    <tr>\n",
       "      <th>1</th>\n",
       "      <td>M</td>\n",
       "      <td>15635</td>\n",
       "    </tr>\n",
       "    <tr>\n",
       "      <th>2</th>\n",
       "      <td>S</td>\n",
       "      <td>14403</td>\n",
       "    </tr>\n",
       "    <tr>\n",
       "      <th>3</th>\n",
       "      <td>XL</td>\n",
       "      <td>552</td>\n",
       "    </tr>\n",
       "    <tr>\n",
       "      <th>4</th>\n",
       "      <td>XXL</td>\n",
       "      <td>28</td>\n",
       "    </tr>\n",
       "  </tbody>\n",
       "</table>\n",
       "</div>"
      ],
      "text/plain": [
       "  size  quantity\n",
       "0    L     18956\n",
       "1    M     15635\n",
       "2    S     14403\n",
       "3   XL       552\n",
       "4  XXL        28"
      ]
     },
     "execution_count": 71,
     "metadata": {},
     "output_type": "execute_result"
    }
   ],
   "source": [
    "# Find high selling quantity based on pizza size by grouping \"size\" column and calculate sum of quantities sold per size \n",
    "\n",
    "sales_by_size = df.groupby(\"size\")[\"quantity\"].sum().sort_values(ascending=False).reset_index()\n",
    "\n",
    "# Display Output\n",
    "print(\"Sales by Size:\")\n",
    "sales_by_size"
   ]
  },
  {
   "cell_type": "markdown",
   "id": "f6c4e190-2553-4f6d-800e-f17378dda9fb",
   "metadata": {},
   "source": [
    "##### The highest selling size of pizzas are L, M, and S while others have low quantity of sales.\""
   ]
  },
  {
   "cell_type": "code",
   "execution_count": 73,
   "id": "02725e19-42b6-468d-a6c0-f3c4b31b7fa4",
   "metadata": {},
   "outputs": [
    {
     "name": "stdout",
     "output_type": "stream",
     "text": [
      "<class 'pandas.core.frame.DataFrame'>\n",
      "RangeIndex: 48620 entries, 0 to 48619\n",
      "Data columns (total 15 columns):\n",
      " #   Column            Non-Null Count  Dtype         \n",
      "---  ------            --------------  -----         \n",
      " 0   order_details_id  48620 non-null  int64         \n",
      " 1   order_id          48620 non-null  int64         \n",
      " 2   pizza_id          48620 non-null  object        \n",
      " 3   quantity          48620 non-null  int64         \n",
      " 4   pizza_type_id     48620 non-null  object        \n",
      " 5   size              48620 non-null  object        \n",
      " 6   price             48620 non-null  float64       \n",
      " 7   name              48620 non-null  object        \n",
      " 8   category          48620 non-null  object        \n",
      " 9   ingredients       48620 non-null  object        \n",
      " 10  date              48620 non-null  datetime64[ns]\n",
      " 11  time              48620 non-null  object        \n",
      " 12  hour              48620 non-null  int64         \n",
      " 13  day_of_week       48620 non-null  object        \n",
      " 14  month             48620 non-null  object        \n",
      "dtypes: datetime64[ns](1), float64(1), int64(4), object(9)\n",
      "memory usage: 5.6+ MB\n"
     ]
    }
   ],
   "source": [
    "# Review of final dataframe after creating necessary columns\n",
    "\n",
    "df.info()"
   ]
  },
  {
   "cell_type": "code",
   "execution_count": 74,
   "id": "7ea6cc49-6056-4dc7-ae6e-9c5ae38fc878",
   "metadata": {},
   "outputs": [
    {
     "data": {
      "text/html": [
       "<div>\n",
       "<style scoped>\n",
       "    .dataframe tbody tr th:only-of-type {\n",
       "        vertical-align: middle;\n",
       "    }\n",
       "\n",
       "    .dataframe tbody tr th {\n",
       "        vertical-align: top;\n",
       "    }\n",
       "\n",
       "    .dataframe thead th {\n",
       "        text-align: right;\n",
       "    }\n",
       "</style>\n",
       "<table border=\"1\" class=\"dataframe\">\n",
       "  <thead>\n",
       "    <tr style=\"text-align: right;\">\n",
       "      <th></th>\n",
       "      <th>order_details_id</th>\n",
       "      <th>order_id</th>\n",
       "      <th>pizza_id</th>\n",
       "      <th>quantity</th>\n",
       "      <th>pizza_type_id</th>\n",
       "      <th>size</th>\n",
       "      <th>price</th>\n",
       "      <th>name</th>\n",
       "      <th>category</th>\n",
       "      <th>ingredients</th>\n",
       "      <th>date</th>\n",
       "      <th>time</th>\n",
       "      <th>hour</th>\n",
       "      <th>day_of_week</th>\n",
       "      <th>month</th>\n",
       "    </tr>\n",
       "  </thead>\n",
       "  <tbody>\n",
       "    <tr>\n",
       "      <th>0</th>\n",
       "      <td>1</td>\n",
       "      <td>1</td>\n",
       "      <td>hawaiian_m</td>\n",
       "      <td>1</td>\n",
       "      <td>hawaiian</td>\n",
       "      <td>M</td>\n",
       "      <td>13.25</td>\n",
       "      <td>The Hawaiian Pizza</td>\n",
       "      <td>Classic</td>\n",
       "      <td>Sliced Ham, Pineapple, Mozzarella Cheese</td>\n",
       "      <td>2015-01-01</td>\n",
       "      <td>11:38:36</td>\n",
       "      <td>11</td>\n",
       "      <td>Thursday</td>\n",
       "      <td>January</td>\n",
       "    </tr>\n",
       "    <tr>\n",
       "      <th>1</th>\n",
       "      <td>2</td>\n",
       "      <td>2</td>\n",
       "      <td>classic_dlx_m</td>\n",
       "      <td>1</td>\n",
       "      <td>classic_dlx</td>\n",
       "      <td>M</td>\n",
       "      <td>16.00</td>\n",
       "      <td>The Classic Deluxe Pizza</td>\n",
       "      <td>Classic</td>\n",
       "      <td>Pepperoni, Mushrooms, Red Onions, Red Peppers,...</td>\n",
       "      <td>2015-01-01</td>\n",
       "      <td>11:57:40</td>\n",
       "      <td>11</td>\n",
       "      <td>Thursday</td>\n",
       "      <td>January</td>\n",
       "    </tr>\n",
       "    <tr>\n",
       "      <th>2</th>\n",
       "      <td>3</td>\n",
       "      <td>2</td>\n",
       "      <td>five_cheese_l</td>\n",
       "      <td>1</td>\n",
       "      <td>five_cheese</td>\n",
       "      <td>L</td>\n",
       "      <td>18.50</td>\n",
       "      <td>The Five Cheese Pizza</td>\n",
       "      <td>Veggie</td>\n",
       "      <td>Mozzarella Cheese, Provolone Cheese, Smoked Go...</td>\n",
       "      <td>2015-01-01</td>\n",
       "      <td>11:57:40</td>\n",
       "      <td>11</td>\n",
       "      <td>Thursday</td>\n",
       "      <td>January</td>\n",
       "    </tr>\n",
       "    <tr>\n",
       "      <th>3</th>\n",
       "      <td>4</td>\n",
       "      <td>2</td>\n",
       "      <td>ital_supr_l</td>\n",
       "      <td>1</td>\n",
       "      <td>ital_supr</td>\n",
       "      <td>L</td>\n",
       "      <td>20.75</td>\n",
       "      <td>The Italian Supreme Pizza</td>\n",
       "      <td>Supreme</td>\n",
       "      <td>Calabrese Salami, Capocollo, Tomatoes, Red Oni...</td>\n",
       "      <td>2015-01-01</td>\n",
       "      <td>11:57:40</td>\n",
       "      <td>11</td>\n",
       "      <td>Thursday</td>\n",
       "      <td>January</td>\n",
       "    </tr>\n",
       "    <tr>\n",
       "      <th>4</th>\n",
       "      <td>5</td>\n",
       "      <td>2</td>\n",
       "      <td>mexicana_m</td>\n",
       "      <td>1</td>\n",
       "      <td>mexicana</td>\n",
       "      <td>M</td>\n",
       "      <td>16.00</td>\n",
       "      <td>The Mexicana Pizza</td>\n",
       "      <td>Veggie</td>\n",
       "      <td>Tomatoes, Red Peppers, Jalapeno Peppers, Red O...</td>\n",
       "      <td>2015-01-01</td>\n",
       "      <td>11:57:40</td>\n",
       "      <td>11</td>\n",
       "      <td>Thursday</td>\n",
       "      <td>January</td>\n",
       "    </tr>\n",
       "  </tbody>\n",
       "</table>\n",
       "</div>"
      ],
      "text/plain": [
       "   order_details_id  order_id       pizza_id  quantity pizza_type_id size  \\\n",
       "0                 1         1     hawaiian_m         1      hawaiian    M   \n",
       "1                 2         2  classic_dlx_m         1   classic_dlx    M   \n",
       "2                 3         2  five_cheese_l         1   five_cheese    L   \n",
       "3                 4         2    ital_supr_l         1     ital_supr    L   \n",
       "4                 5         2     mexicana_m         1      mexicana    M   \n",
       "\n",
       "   price                       name category  \\\n",
       "0  13.25         The Hawaiian Pizza  Classic   \n",
       "1  16.00   The Classic Deluxe Pizza  Classic   \n",
       "2  18.50      The Five Cheese Pizza   Veggie   \n",
       "3  20.75  The Italian Supreme Pizza  Supreme   \n",
       "4  16.00         The Mexicana Pizza   Veggie   \n",
       "\n",
       "                                         ingredients       date      time  \\\n",
       "0           Sliced Ham, Pineapple, Mozzarella Cheese 2015-01-01  11:38:36   \n",
       "1  Pepperoni, Mushrooms, Red Onions, Red Peppers,... 2015-01-01  11:57:40   \n",
       "2  Mozzarella Cheese, Provolone Cheese, Smoked Go... 2015-01-01  11:57:40   \n",
       "3  Calabrese Salami, Capocollo, Tomatoes, Red Oni... 2015-01-01  11:57:40   \n",
       "4  Tomatoes, Red Peppers, Jalapeno Peppers, Red O... 2015-01-01  11:57:40   \n",
       "\n",
       "   hour day_of_week    month  \n",
       "0    11    Thursday  January  \n",
       "1    11    Thursday  January  \n",
       "2    11    Thursday  January  \n",
       "3    11    Thursday  January  \n",
       "4    11    Thursday  January  "
      ]
     },
     "execution_count": 74,
     "metadata": {},
     "output_type": "execute_result"
    }
   ],
   "source": [
    "# Return first five records of the DataFrame\n",
    "\n",
    "df.head()"
   ]
  },
  {
   "cell_type": "code",
   "execution_count": 75,
   "id": "014e9e62-3584-438f-b792-3867953400b9",
   "metadata": {},
   "outputs": [],
   "source": [
    "# Save cleaned master DataFrame as \"pizza_sales.csv\"\n",
    "\n",
    "df.to_csv(r\"C:\\Users\\Ibifu\\Documents\\TechCrush Tasks\\Task 3\\Pizza+Place+Sales\\pizza_sales\\pizza_sales.csv\", index=False)"
   ]
  },
  {
   "cell_type": "markdown",
   "id": "1c8eaccd-d467-4562-91fa-d4f5abda4fbe",
   "metadata": {},
   "source": [
    "## ***Exploratory Data Analysis (EDA)***"
   ]
  },
  {
   "cell_type": "markdown",
   "id": "f7829a91-0b7f-424c-86b2-0ad33bfc1a5b",
   "metadata": {},
   "source": [
    "### *1. Hourly Sales*"
   ]
  },
  {
   "cell_type": "code",
   "execution_count": 78,
   "id": "2d79d8b3-e3f7-465f-8f2d-b98a5988eb64",
   "metadata": {},
   "outputs": [
    {
     "data": {
      "image/png": "[encoded data removed]",
      "text/plain": [
       "<Figure size 800x400 with 1 Axes>"
      ]
     },
     "metadata": {},
     "output_type": "display_data"
    }
   ],
   "source": [
    "# Key metric for hourly sales plot. Group \"hour\" and calculate sum of quantities sold per hour\n",
    "hourly_sales = df.groupby(\"hour\")[\"quantity\"].sum() \n",
    "\n",
    "# Specify height and width of plot\n",
    "plt.figure(figsize=(8,4))\n",
    "\n",
    "# Plot bar chart for hourly sales\n",
    "hourly_sales.plot(kind=\"bar\", color=\"blue\")\n",
    "\n",
    "# Set title and labels \n",
    "plt.title(\"Hourly Sales\")\n",
    "plt.xlabel(\"Hour of Day\")\n",
    "plt.ylabel(\"Total Quantity Sold\")\n",
    "\n",
    "# Automatically adjusts the spacing of labels, and tick marks so nothing gets cut off or overlaps.\n",
    "plt.tight_layout() \n",
    "\n",
    "# Displays the plot\n",
    "plt.show()"
   ]
  },
  {
   "cell_type": "markdown",
   "id": "663b7764-c896-4981-a537-e91794e84ace",
   "metadata": {},
   "source": [
    "##### From the above visual, the busiest hours are during lunch hour 12 - 13(12pm - 1pm) and early evening hour 17 - 19(5 - 7pm)"
   ]
  },
  {
   "cell_type": "markdown",
   "id": "8da7da55-7850-44f6-8303-807588d1ae29",
   "metadata": {},
   "source": [
    "### *2. Sales by Day of the Week*"
   ]
  },
  {
   "cell_type": "code",
   "execution_count": 81,
   "id": "383c7e73-2bdf-4875-b9f7-71f8fe30985b",
   "metadata": {},
   "outputs": [
    {
     "data": {
      "image/png": "[encoded data removed]",
      "text/plain": [
       "<Figure size 600x400 with 1 Axes>"
      ]
     },
     "metadata": {},
     "output_type": "display_data"
    }
   ],
   "source": [
    "# Key metric for sales by day of the week plot. Group \"day_of_week\" and calculate sum of quantities sold per day\n",
    "sales_by_day = df.groupby(\"day_of_week\")[\"quantity\"].sum()\n",
    "\n",
    "# reindex() the days of the week to appear in the normal Monday–Sunday order and store in a new variable\n",
    "sales_by_day = sales_by_day.reindex([\"Monday\", \"Tuesday\", \"Wednesday\", \"Thursday\", \"Friday\", \"Saturday\", \"Sunday\"])\n",
    "\n",
    "# Specify height and width of plot\n",
    "plt.figure(figsize=(6,4))\n",
    "\n",
    "# Plot bar chart for sales by day of the week. \n",
    "sales_by_day.plot(kind=\"bar\", color=\"navy\")\n",
    "\n",
    "# Set title and labels \n",
    "plt.title(\"Sales by Day of the Week\")\n",
    "plt.xlabel(\"Day of Week\")\n",
    "plt.ylabel(\"Total Quantity Sold\")\n",
    "\n",
    "# Automatically adjusts the spacing of labels, and tick marks so nothing gets cut off or overlaps.\n",
    "plt.tight_layout() \n",
    "\n",
    "# Displays the plot\n",
    "plt.show()"
   ]
  },
  {
   "cell_type": "markdown",
   "id": "6d77cf7b-8627-4887-9ef5-0f3dedf5f21d",
   "metadata": {},
   "source": [
    "##### Fridays consistently produce the highest daily totals."
   ]
  },
  {
   "cell_type": "markdown",
   "id": "9f549a8c-3734-4bbf-b377-bfc2b4aaf92d",
   "metadata": {},
   "source": [
    "### *3. Monthly Sales Trend*"
   ]
  },
  {
   "cell_type": "code",
   "execution_count": 84,
   "id": "37607907-1a2c-4327-a9cf-b27f5ab2be0c",
   "metadata": {},
   "outputs": [
    {
     "data": {
      "image/png": "[encoded data removed]",
      "text/plain": [
       "<Figure size 1000x500 with 1 Axes>"
      ]
     },
     "metadata": {},
     "output_type": "display_data"
    }
   ],
   "source": [
    "# Key metric for monthly sales. Group by \"month\" and calculate sum of quantities sold per month\n",
    "sales_by_month = df.groupby(\"month\")[\"quantity\"].sum()\n",
    "\n",
    "# reindex() the names of months to appear in the normal January–December order and store in a new variable\n",
    "sales_by_month = sales_by_month.reindex([\"January\", \"February\", \"March\", \"April\", \"May\", \"June\", \"July\", \"August\", \"September\", \"October\", \"November\", \"December\"])\n",
    "\n",
    "# Specify height and width of plot\n",
    "plt.figure(figsize=(10,5))\n",
    "\n",
    "# Plot line graph for monthly sales.\n",
    "sales_by_month.plot(kind=\"line\", color=\"orange\", marker=\"o\")\n",
    "\n",
    "# xticks() guarantees that all month names are shown on the line graph since line graphs sometimes truncate cramped index.\n",
    "plt.xticks(ticks=range(len(sales_by_month)),  # one tick for each point\n",
    "           labels=sales_by_month.index,      # use the month names\n",
    "           rotation=45)                      # angle for readability\n",
    "\n",
    "# Set title, labels and grid\n",
    "plt.title(\"Monthly Sales Trend (Quantity)\")\n",
    "plt.xlabel(\"Month\")\n",
    "plt.ylabel(\"Total Quantity Sold\")\n",
    "plt.grid(True, linestyle=\"--\")\n",
    "\n",
    "# Automatically adjusts the spacing of labels, and tick marks so nothing gets cut off or overlaps.\n",
    "plt.tight_layout() \n",
    "\n",
    "# Displays the plot\n",
    "plt.show()"
   ]
  },
  {
   "cell_type": "markdown",
   "id": "4ce42149-99b2-4d2b-919f-595502448ec8",
   "metadata": {},
   "source": [
    "##### Overall sales hover between 3,900–4,400 pizzas per month."
   ]
  },
  {
   "cell_type": "markdown",
   "id": "057b414d-70e9-4081-b973-e340bc9fc165",
   "metadata": {},
   "source": [
    "### *4. Sales by Pizza Size*"
   ]
  },
  {
   "cell_type": "code",
   "execution_count": 87,
   "id": "1d64cf1d-60c9-4630-9502-92793f2e3748",
   "metadata": {},
   "outputs": [
    {
     "data": {
      "image/png": "[encoded data removed]",
      "text/plain": [
       "<Figure size 800x400 with 1 Axes>"
      ]
     },
     "metadata": {},
     "output_type": "display_data"
    }
   ],
   "source": [
    "# Key metric for pizza size sales. Group by \"size\" and calculate sum of quantities sold per size\n",
    "sales_by_size = df.groupby(\"size\")[\"quantity\"].sum()\n",
    "\n",
    "# Specify height and width of plot\n",
    "plt.figure(figsize=(8,4))\n",
    "\n",
    "# Plot bar chart for sales of pizza size. Notice the kind is \"barh\" the \"h\" signifies an horizontal bar chart\n",
    "sales_by_size.plot(kind=\"barh\", color=\"maroon\")\n",
    "\n",
    "# Set title and labels\n",
    "plt.title(\"Sales by Pizza Size\")\n",
    "plt.xlabel(\"Total Quantity Sold\")\n",
    "plt.ylabel(\"Size of Pizza\")\n",
    "\n",
    "# Automatically adjusts the spacing of labels, and tick marks so nothing gets cut off or overlaps.\n",
    "plt.tight_layout()\n",
    "\n",
    "# Displays the plot\n",
    "plt.show()"
   ]
  },
  {
   "cell_type": "markdown",
   "id": "7bdba510-b4e8-400b-9554-171c69e2ac25",
   "metadata": {},
   "source": [
    "##### Overall, the business relies heavily on L and M sizes, while XL and XXL contribute very little and might need special promotions or a menu rethink."
   ]
  },
  {
   "cell_type": "markdown",
   "id": "c6cd5f38-f4fc-4f4a-97e4-9cfad6dd269f",
   "metadata": {},
   "source": [
    "## ***Summary***"
   ]
  },
  {
   "cell_type": "markdown",
   "id": "9eafd430-9f6a-4ba3-a22a-f39d5ba3894b",
   "metadata": {},
   "source": [
    "*The pizza shop generated approximately 818k in 2015, selling nearly 50k pizzas across 21k orders.*\n",
    "\n",
    "*Fridays at lunchtime are the prime window, and Classic Deluxe, BBQ Chicken, Hawaiian, Pepperoni, and Thai Chicken are the stars. Consider promoting or rethinking low performers like Brie Carre or Mediterranean and customers prefer to order Large(L) or Medium(M) size pizzas.*"
   ]
  },
  {
   "cell_type": "code",
   "execution_count": null,
   "id": "d6d3bb55-0a72-40f5-af09-687ea89b5184",
   "metadata": {},
   "outputs": [],
   "source": []
  }
 ],
 "metadata": {
  "kernelspec": {
   "display_name": "Python [conda env:base] *",
   "language": "python",
   "name": "conda-base-py"
  },
  "language_info": {
   "codemirror_mode": {
    "name": "ipython",
    "version": 3
   },
   "file_extension": ".py",
   "mimetype": "text/x-python",
   "name": "python",
   "nbconvert_exporter": "python",
   "pygments_lexer": "ipython3",
   "version": "3.12.3"
  }
 },
 "nbformat": 4,
 "nbformat_minor": 5
}
